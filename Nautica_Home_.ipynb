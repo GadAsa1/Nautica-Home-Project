{
  "nbformat": 4,
  "nbformat_minor": 0,
  "metadata": {
    "colab": {
      "provenance": [],
      "collapsed_sections": [
        "Gr_2uAFZjDF0"
      ],
      "authorship_tag": "ABX9TyP1baZL56a3C/2ZbLRVB+97",
      "include_colab_link": true
    },
    "kernelspec": {
      "name": "python3",
      "display_name": "Python 3"
    },
    "language_info": {
      "name": "python"
    }
  },
  "cells": [
    {
      "cell_type": "markdown",
      "metadata": {
        "id": "view-in-github",
        "colab_type": "text"
      },
      "source": [
        "<a href=\"https://colab.research.google.com/github/GadAsa1/Nautica-Home-Project/blob/main/Nautica_Home_.ipynb\" target=\"_parent\"><img src=\"https://colab.research.google.com/assets/colab-badge.svg\" alt=\"Open In Colab\"/></a>"
      ]
    },
    {
      "cell_type": "markdown",
      "source": [
        "# Nautica Home Data Analysis"
      ],
      "metadata": {
        "id": "aoyClFCt7aqf"
      }
    },
    {
      "cell_type": "markdown",
      "source": [
        "# Loading the libaries"
      ],
      "metadata": {
        "id": "j2grlCNf71cS"
      }
    },
    {
      "cell_type": "code",
      "source": [
        "import pandas as pd\n",
        "import matplotlib.pyplot as plt\n",
        "import numpy as np"
      ],
      "metadata": {
        "id": "waGDlabj8GH6"
      },
      "execution_count": 1,
      "outputs": []
    },
    {
      "cell_type": "code",
      "source": [
        "! git clone https://github.com/GadAsa1/Nautica-Home-Project.git # Connect to Github"
      ],
      "metadata": {
        "colab": {
          "base_uri": "https://localhost:8080/"
        },
        "id": "ojE1aOAWZ2X3",
        "outputId": "a08c03c3-4b92-457e-9ecf-58055238de53"
      },
      "execution_count": 2,
      "outputs": [
        {
          "output_type": "stream",
          "name": "stdout",
          "text": [
            "Cloning into 'Nautica-Home-Project'...\n",
            "remote: Enumerating objects: 25, done.\u001b[K\n",
            "remote: Counting objects: 100% (25/25), done.\u001b[K\n",
            "remote: Compressing objects: 100% (25/25), done.\u001b[K\n",
            "remote: Total 25 (delta 7), reused 0 (delta 0), pack-reused 0\u001b[K\n",
            "Unpacking objects: 100% (25/25), 1.23 MiB | 6.23 MiB/s, done.\n"
          ]
        }
      ]
    },
    {
      "cell_type": "markdown",
      "source": [
        "# First Table - 'Items'"
      ],
      "metadata": {
        "id": "PHmtJLNBSC8v"
      }
    },
    {
      "cell_type": "markdown",
      "source": [
        "## 1. Loading the Table"
      ],
      "metadata": {
        "id": "CGT74N1Z-byU"
      }
    },
    {
      "cell_type": "code",
      "source": [
        "df_items = pd.read_excel(\"/content/Nautica-Home-Project/Nautica Home - Items Catalog.xlsx\")"
      ],
      "metadata": {
        "id": "R20sWFEL-h5z"
      },
      "execution_count": 3,
      "outputs": []
    },
    {
      "cell_type": "code",
      "source": [
        "print(f\"This Dataframe has {df_items.shape[0]} rows over {df_items.shape[1]} columns\")"
      ],
      "metadata": {
        "colab": {
          "base_uri": "https://localhost:8080/"
        },
        "id": "xggWUpPbAeSf",
        "outputId": "90bb8e9e-0510-40ee-c4e2-b3904aed09b2"
      },
      "execution_count": 4,
      "outputs": [
        {
          "output_type": "stream",
          "name": "stdout",
          "text": [
            "This Dataframe has 1579 rows over 104 columns\n"
          ]
        }
      ]
    },
    {
      "cell_type": "code",
      "source": [
        "df_items.head()"
      ],
      "metadata": {
        "colab": {
          "base_uri": "https://localhost:8080/",
          "height": 698
        },
        "id": "jDAn5SpNAy5g",
        "outputId": "719d7320-ef39-431e-8882-8b31f1cd562c"
      },
      "execution_count": 5,
      "outputs": [
        {
          "output_type": "execute_result",
          "data": {
            "text/plain": [
              "              מק\"ט          ברקוד                תאור  \\\n",
              "0        231200200      231200200  צלחת עיקרית 27 ס\"מ   \n",
              "1  231200200-02-27  7297619005943  צלחת עיקרית 27 ס\"מ   \n",
              "2  231200200-19-27  7297619005936  צלחת עיקרית 27 ס\"מ   \n",
              "3        231200201      231200201  צלחת ראשונה 23 ס\"מ   \n",
              "4  231200201-02-20  7297619005967  צלחת ראשונה 23 ס\"מ   \n",
              "\n",
              "                           תאור לועזי סטטוס טיפוס מנוהל מלאי? שינוי תאור?  \\\n",
              "0  10.5' Shallow Plate - DINNER PLATE  פעיל     R           Y         NaN   \n",
              "1  10.5' Shallow Plate - DINNER PLATE  פעיל     R           Y         NaN   \n",
              "2  10.5' Shallow Plate - DINNER PLATE  פעיל     R           Y         NaN   \n",
              "3      8' Shallow Plate - SALAD PLATE  פעיל     R           Y         NaN   \n",
              "4      8' Shallow Plate - SALAD PLATE  פעיל     R           Y         NaN   \n",
              "\n",
              "   מנוהל מס. סידוריים?  רכש אינטרנט?  ... מק\"ט חסוי? דרופשיפינג  \\\n",
              "0                  NaN           NaN  ...        NaN        NaN   \n",
              "1                  NaN           NaN  ...        NaN        NaN   \n",
              "2                  NaN           NaN  ...        NaN        NaN   \n",
              "3                  NaN           NaN  ...        NaN        NaN   \n",
              "4                  NaN           NaN  ...        NaN        NaN   \n",
              "\n",
              "  חיוב נלווה להשכרות מידות טקסטיל מטבע קנייה 2  מחיר קנייה 2  שם ספק מועדף 2  \\\n",
              "0                NaN          NaN          NaN             0             NaN   \n",
              "1                NaN          NaN          NaN             0             NaN   \n",
              "2                NaN          NaN          NaN             0             NaN   \n",
              "3                NaN          NaN          NaN             0             NaN   \n",
              "4                NaN          NaN          NaN             0             NaN   \n",
              "\n",
              "  ספק מועדף 2 מטבע של סה\"כ מ.קנייה  סה\"כ מחיר קנייה  \n",
              "0         NaN                  NaN                0  \n",
              "1         NaN                  NaN                0  \n",
              "2         NaN                  NaN                0  \n",
              "3         NaN                  NaN                0  \n",
              "4         NaN                  NaN                0  \n",
              "\n",
              "[5 rows x 104 columns]"
            ],
            "text/html": [
              "\n",
              "  <div id=\"df-a2155b0f-b0cb-4065-a207-e28078055238\">\n",
              "    <div class=\"colab-df-container\">\n",
              "      <div>\n",
              "<style scoped>\n",
              "    .dataframe tbody tr th:only-of-type {\n",
              "        vertical-align: middle;\n",
              "    }\n",
              "\n",
              "    .dataframe tbody tr th {\n",
              "        vertical-align: top;\n",
              "    }\n",
              "\n",
              "    .dataframe thead th {\n",
              "        text-align: right;\n",
              "    }\n",
              "</style>\n",
              "<table border=\"1\" class=\"dataframe\">\n",
              "  <thead>\n",
              "    <tr style=\"text-align: right;\">\n",
              "      <th></th>\n",
              "      <th>מק\"ט</th>\n",
              "      <th>ברקוד</th>\n",
              "      <th>תאור</th>\n",
              "      <th>תאור לועזי</th>\n",
              "      <th>סטטוס</th>\n",
              "      <th>טיפוס</th>\n",
              "      <th>מנוהל מלאי?</th>\n",
              "      <th>שינוי תאור?</th>\n",
              "      <th>מנוהל מס. סידוריים?</th>\n",
              "      <th>רכש אינטרנט?</th>\n",
              "      <th>...</th>\n",
              "      <th>מק\"ט חסוי?</th>\n",
              "      <th>דרופשיפינג</th>\n",
              "      <th>חיוב נלווה להשכרות</th>\n",
              "      <th>מידות טקסטיל</th>\n",
              "      <th>מטבע קנייה 2</th>\n",
              "      <th>מחיר קנייה 2</th>\n",
              "      <th>שם ספק מועדף 2</th>\n",
              "      <th>ספק מועדף 2</th>\n",
              "      <th>מטבע של סה\"כ מ.קנייה</th>\n",
              "      <th>סה\"כ מחיר קנייה</th>\n",
              "    </tr>\n",
              "  </thead>\n",
              "  <tbody>\n",
              "    <tr>\n",
              "      <th>0</th>\n",
              "      <td>231200200</td>\n",
              "      <td>231200200</td>\n",
              "      <td>צלחת עיקרית 27 ס\"מ</td>\n",
              "      <td>10.5' Shallow Plate - DINNER PLATE</td>\n",
              "      <td>פעיל</td>\n",
              "      <td>R</td>\n",
              "      <td>Y</td>\n",
              "      <td>NaN</td>\n",
              "      <td>NaN</td>\n",
              "      <td>NaN</td>\n",
              "      <td>...</td>\n",
              "      <td>NaN</td>\n",
              "      <td>NaN</td>\n",
              "      <td>NaN</td>\n",
              "      <td>NaN</td>\n",
              "      <td>NaN</td>\n",
              "      <td>0</td>\n",
              "      <td>NaN</td>\n",
              "      <td>NaN</td>\n",
              "      <td>NaN</td>\n",
              "      <td>0</td>\n",
              "    </tr>\n",
              "    <tr>\n",
              "      <th>1</th>\n",
              "      <td>231200200-02-27</td>\n",
              "      <td>7297619005943</td>\n",
              "      <td>צלחת עיקרית 27 ס\"מ</td>\n",
              "      <td>10.5' Shallow Plate - DINNER PLATE</td>\n",
              "      <td>פעיל</td>\n",
              "      <td>R</td>\n",
              "      <td>Y</td>\n",
              "      <td>NaN</td>\n",
              "      <td>NaN</td>\n",
              "      <td>NaN</td>\n",
              "      <td>...</td>\n",
              "      <td>NaN</td>\n",
              "      <td>NaN</td>\n",
              "      <td>NaN</td>\n",
              "      <td>NaN</td>\n",
              "      <td>NaN</td>\n",
              "      <td>0</td>\n",
              "      <td>NaN</td>\n",
              "      <td>NaN</td>\n",
              "      <td>NaN</td>\n",
              "      <td>0</td>\n",
              "    </tr>\n",
              "    <tr>\n",
              "      <th>2</th>\n",
              "      <td>231200200-19-27</td>\n",
              "      <td>7297619005936</td>\n",
              "      <td>צלחת עיקרית 27 ס\"מ</td>\n",
              "      <td>10.5' Shallow Plate - DINNER PLATE</td>\n",
              "      <td>פעיל</td>\n",
              "      <td>R</td>\n",
              "      <td>Y</td>\n",
              "      <td>NaN</td>\n",
              "      <td>NaN</td>\n",
              "      <td>NaN</td>\n",
              "      <td>...</td>\n",
              "      <td>NaN</td>\n",
              "      <td>NaN</td>\n",
              "      <td>NaN</td>\n",
              "      <td>NaN</td>\n",
              "      <td>NaN</td>\n",
              "      <td>0</td>\n",
              "      <td>NaN</td>\n",
              "      <td>NaN</td>\n",
              "      <td>NaN</td>\n",
              "      <td>0</td>\n",
              "    </tr>\n",
              "    <tr>\n",
              "      <th>3</th>\n",
              "      <td>231200201</td>\n",
              "      <td>231200201</td>\n",
              "      <td>צלחת ראשונה 23 ס\"מ</td>\n",
              "      <td>8' Shallow Plate - SALAD PLATE</td>\n",
              "      <td>פעיל</td>\n",
              "      <td>R</td>\n",
              "      <td>Y</td>\n",
              "      <td>NaN</td>\n",
              "      <td>NaN</td>\n",
              "      <td>NaN</td>\n",
              "      <td>...</td>\n",
              "      <td>NaN</td>\n",
              "      <td>NaN</td>\n",
              "      <td>NaN</td>\n",
              "      <td>NaN</td>\n",
              "      <td>NaN</td>\n",
              "      <td>0</td>\n",
              "      <td>NaN</td>\n",
              "      <td>NaN</td>\n",
              "      <td>NaN</td>\n",
              "      <td>0</td>\n",
              "    </tr>\n",
              "    <tr>\n",
              "      <th>4</th>\n",
              "      <td>231200201-02-20</td>\n",
              "      <td>7297619005967</td>\n",
              "      <td>צלחת ראשונה 23 ס\"מ</td>\n",
              "      <td>8' Shallow Plate - SALAD PLATE</td>\n",
              "      <td>פעיל</td>\n",
              "      <td>R</td>\n",
              "      <td>Y</td>\n",
              "      <td>NaN</td>\n",
              "      <td>NaN</td>\n",
              "      <td>NaN</td>\n",
              "      <td>...</td>\n",
              "      <td>NaN</td>\n",
              "      <td>NaN</td>\n",
              "      <td>NaN</td>\n",
              "      <td>NaN</td>\n",
              "      <td>NaN</td>\n",
              "      <td>0</td>\n",
              "      <td>NaN</td>\n",
              "      <td>NaN</td>\n",
              "      <td>NaN</td>\n",
              "      <td>0</td>\n",
              "    </tr>\n",
              "  </tbody>\n",
              "</table>\n",
              "<p>5 rows × 104 columns</p>\n",
              "</div>\n",
              "      <button class=\"colab-df-convert\" onclick=\"convertToInteractive('df-a2155b0f-b0cb-4065-a207-e28078055238')\"\n",
              "              title=\"Convert this dataframe to an interactive table.\"\n",
              "              style=\"display:none;\">\n",
              "        \n",
              "  <svg xmlns=\"http://www.w3.org/2000/svg\" height=\"24px\"viewBox=\"0 0 24 24\"\n",
              "       width=\"24px\">\n",
              "    <path d=\"M0 0h24v24H0V0z\" fill=\"none\"/>\n",
              "    <path d=\"M18.56 5.44l.94 2.06.94-2.06 2.06-.94-2.06-.94-.94-2.06-.94 2.06-2.06.94zm-11 1L8.5 8.5l.94-2.06 2.06-.94-2.06-.94L8.5 2.5l-.94 2.06-2.06.94zm10 10l.94 2.06.94-2.06 2.06-.94-2.06-.94-.94-2.06-.94 2.06-2.06.94z\"/><path d=\"M17.41 7.96l-1.37-1.37c-.4-.4-.92-.59-1.43-.59-.52 0-1.04.2-1.43.59L10.3 9.45l-7.72 7.72c-.78.78-.78 2.05 0 2.83L4 21.41c.39.39.9.59 1.41.59.51 0 1.02-.2 1.41-.59l7.78-7.78 2.81-2.81c.8-.78.8-2.07 0-2.86zM5.41 20L4 18.59l7.72-7.72 1.47 1.35L5.41 20z\"/>\n",
              "  </svg>\n",
              "      </button>\n",
              "      \n",
              "  <style>\n",
              "    .colab-df-container {\n",
              "      display:flex;\n",
              "      flex-wrap:wrap;\n",
              "      gap: 12px;\n",
              "    }\n",
              "\n",
              "    .colab-df-convert {\n",
              "      background-color: #E8F0FE;\n",
              "      border: none;\n",
              "      border-radius: 50%;\n",
              "      cursor: pointer;\n",
              "      display: none;\n",
              "      fill: #1967D2;\n",
              "      height: 32px;\n",
              "      padding: 0 0 0 0;\n",
              "      width: 32px;\n",
              "    }\n",
              "\n",
              "    .colab-df-convert:hover {\n",
              "      background-color: #E2EBFA;\n",
              "      box-shadow: 0px 1px 2px rgba(60, 64, 67, 0.3), 0px 1px 3px 1px rgba(60, 64, 67, 0.15);\n",
              "      fill: #174EA6;\n",
              "    }\n",
              "\n",
              "    [theme=dark] .colab-df-convert {\n",
              "      background-color: #3B4455;\n",
              "      fill: #D2E3FC;\n",
              "    }\n",
              "\n",
              "    [theme=dark] .colab-df-convert:hover {\n",
              "      background-color: #434B5C;\n",
              "      box-shadow: 0px 1px 3px 1px rgba(0, 0, 0, 0.15);\n",
              "      filter: drop-shadow(0px 1px 2px rgba(0, 0, 0, 0.3));\n",
              "      fill: #FFFFFF;\n",
              "    }\n",
              "  </style>\n",
              "\n",
              "      <script>\n",
              "        const buttonEl =\n",
              "          document.querySelector('#df-a2155b0f-b0cb-4065-a207-e28078055238 button.colab-df-convert');\n",
              "        buttonEl.style.display =\n",
              "          google.colab.kernel.accessAllowed ? 'block' : 'none';\n",
              "\n",
              "        async function convertToInteractive(key) {\n",
              "          const element = document.querySelector('#df-a2155b0f-b0cb-4065-a207-e28078055238');\n",
              "          const dataTable =\n",
              "            await google.colab.kernel.invokeFunction('convertToInteractive',\n",
              "                                                     [key], {});\n",
              "          if (!dataTable) return;\n",
              "\n",
              "          const docLinkHtml = 'Like what you see? Visit the ' +\n",
              "            '<a target=\"_blank\" href=https://colab.research.google.com/notebooks/data_table.ipynb>data table notebook</a>'\n",
              "            + ' to learn more about interactive tables.';\n",
              "          element.innerHTML = '';\n",
              "          dataTable['output_type'] = 'display_data';\n",
              "          await google.colab.output.renderOutput(dataTable, element);\n",
              "          const docLink = document.createElement('div');\n",
              "          docLink.innerHTML = docLinkHtml;\n",
              "          element.appendChild(docLink);\n",
              "        }\n",
              "      </script>\n",
              "    </div>\n",
              "  </div>\n",
              "  "
            ]
          },
          "metadata": {},
          "execution_count": 5
        }
      ]
    },
    {
      "cell_type": "markdown",
      "source": [
        "## 2. Cleanup the Table"
      ],
      "metadata": {
        "id": "tQs94teKC5fY"
      }
    },
    {
      "cell_type": "markdown",
      "source": [
        "### 2.1 Empty columns and rows"
      ],
      "metadata": {
        "id": "2bquHCB3bSoo"
      }
    },
    {
      "cell_type": "code",
      "source": [
        "df_items.isnull().sum()"
      ],
      "metadata": {
        "colab": {
          "base_uri": "https://localhost:8080/"
        },
        "id": "Yjeqri87DGIa",
        "outputId": "31aa7ffe-011e-45b0-ff48-e9d6578d41ef"
      },
      "execution_count": 6,
      "outputs": [
        {
          "output_type": "execute_result",
          "data": {
            "text/plain": [
              "מק\"ט                       0\n",
              "ברקוד                     35\n",
              "תאור                       0\n",
              "תאור לועזי               262\n",
              "סטטוס                      0\n",
              "                        ... \n",
              "מחיר קנייה 2               0\n",
              "שם ספק מועדף 2          1579\n",
              "ספק מועדף 2             1579\n",
              "מטבע של סה\"כ מ.קנייה    1579\n",
              "סה\"כ מחיר קנייה            0\n",
              "Length: 104, dtype: int64"
            ]
          },
          "metadata": {},
          "execution_count": 6
        }
      ]
    },
    {
      "cell_type": "markdown",
      "source": [
        "Note : The dataset contain NaN values so cleanup in this area is requierd.☝ "
      ],
      "metadata": {
        "id": "10-K2UWZbbGC"
      }
    },
    {
      "cell_type": "code",
      "source": [
        "#pd.options.display.max_rows = 999"
      ],
      "metadata": {
        "id": "XyWxe33tDUCT"
      },
      "execution_count": 7,
      "outputs": []
    },
    {
      "cell_type": "code",
      "source": [
        "df_items = df_items.dropna(axis = 1, how = 'all') # drop an axis completely empty"
      ],
      "metadata": {
        "id": "lAhmSoR4NOe3"
      },
      "execution_count": 8,
      "outputs": []
    },
    {
      "cell_type": "code",
      "source": [
        "df_items =df_items.dropna(axis = 0, how = 'all')  # drop an row completely empty"
      ],
      "metadata": {
        "id": "-lD1P6cwNSqb"
      },
      "execution_count": 9,
      "outputs": []
    },
    {
      "cell_type": "markdown",
      "source": [
        " Cleaning the empty columns and rows ☝"
      ],
      "metadata": {
        "id": "t-jGgy_qed5q"
      }
    },
    {
      "cell_type": "code",
      "source": [
        "df_items.shape"
      ],
      "metadata": {
        "colab": {
          "base_uri": "https://localhost:8080/"
        },
        "id": "gXzkIz9GkYwl",
        "outputId": "98467c33-292b-45cd-bad0-58a31098078a"
      },
      "execution_count": 10,
      "outputs": [
        {
          "output_type": "execute_result",
          "data": {
            "text/plain": [
              "(1579, 73)"
            ]
          },
          "metadata": {},
          "execution_count": 10
        }
      ]
    },
    {
      "cell_type": "markdown",
      "source": [
        "This Dataframe has now 1579 rows over 73 columns, so we deleted 31 columns and 0 rows."
      ],
      "metadata": {
        "id": "Z0s5w7m8ksJd"
      }
    },
    {
      "cell_type": "markdown",
      "source": [
        "### 2.2 Columns with single value"
      ],
      "metadata": {
        "id": "0LY6YiN9blKx"
      }
    },
    {
      "cell_type": "code",
      "source": [
        "single_value_col = df_items.columns[df_items.nunique() <=1]\n",
        "single_value_col"
      ],
      "metadata": {
        "colab": {
          "base_uri": "https://localhost:8080/"
        },
        "id": "uP6mjDiJcLUr",
        "outputId": "5c2bdcd4-3915-4796-fa12-9e61607a6d22"
      },
      "execution_count": 11,
      "outputs": [
        {
          "output_type": "execute_result",
          "data": {
            "text/plain": [
              "Index(['סטטוס', 'טיפוס', 'מנוהל מלאי?', 'שינוי תאור?', 'יח' קניה/מכירה',\n",
              "       'יח' מפעל', 'שעור המרה', 'פריט מרכז?', 'מטבע המחירון', 'מחיר סיטונאות',\n",
              "       'ת.  תמחיר', 'מטבע מחיר מינימום', 'מחיר מינימום', 'FOB',\n",
              "       'סכום מירבי לתיקון', 'שנה', 'מדיניות מחירים', 'מאפיין סופר פארם',\n",
              "       'סדר ליקוט', 'חודשי DC מותרים', 'חודשי DC לאחסון', 'מינימום ימי תוקף',\n",
              "       'מחיר קנייה 2'],\n",
              "      dtype='object')"
            ]
          },
          "metadata": {},
          "execution_count": 11
        }
      ]
    },
    {
      "cell_type": "code",
      "source": [
        "df_items = df_items.drop(single_value_col, axis = 1)  # Cleaning the columns with a simgle value"
      ],
      "metadata": {
        "id": "4p2NpL-Jd-fA"
      },
      "execution_count": 12,
      "outputs": []
    },
    {
      "cell_type": "code",
      "source": [
        "df_items.shape"
      ],
      "metadata": {
        "colab": {
          "base_uri": "https://localhost:8080/"
        },
        "outputId": "ad052936-6dd2-4b32-853b-17577c563741",
        "id": "5-87dd9_iPDx"
      },
      "execution_count": 13,
      "outputs": [
        {
          "output_type": "execute_result",
          "data": {
            "text/plain": [
              "(1579, 50)"
            ]
          },
          "metadata": {},
          "execution_count": 13
        }
      ]
    },
    {
      "cell_type": "markdown",
      "source": [
        "This Dataframe has now 1579 rows over 50 columns, so we deleted another 23 columns."
      ],
      "metadata": {
        "id": "ISKBzlNBiPDx"
      }
    },
    {
      "cell_type": "markdown",
      "source": [
        "### 2.3 Duplicate Rows"
      ],
      "metadata": {
        "id": "-SzzRfaCBkA6"
      }
    },
    {
      "cell_type": "code",
      "source": [
        "duplicate_rows = df_items[df_items.duplicated()].shape[0]\n",
        "print(f\"This Dataframe has {duplicate_rows} duplicate rows \")"
      ],
      "metadata": {
        "colab": {
          "base_uri": "https://localhost:8080/"
        },
        "id": "K6om4OMABix8",
        "outputId": "3e7e66bf-4342-4e43-c2c4-8904ffd7a841"
      },
      "execution_count": 14,
      "outputs": [
        {
          "output_type": "stream",
          "name": "stdout",
          "text": [
            "This Dataframe has 0 duplicate rows \n"
          ]
        }
      ]
    },
    {
      "cell_type": "markdown",
      "source": [
        "### 2.4 Unnecessary columns and rows"
      ],
      "metadata": {
        "id": "H-Ga7mlMj6Zl"
      }
    },
    {
      "cell_type": "code",
      "source": [
        "filter = df_items.isnull().sum().sort_values(ascending=False)\n",
        "filter[ filter > 0 ]"
      ],
      "metadata": {
        "colab": {
          "base_uri": "https://localhost:8080/"
        },
        "id": "FR4D03pyktNY",
        "outputId": "a4ae3215-6d27-4ef1-edba-213f125205e8"
      },
      "execution_count": 15,
      "outputs": [
        {
          "output_type": "execute_result",
          "data": {
            "text/plain": [
              "שם סדרה               1509\n",
              "פרמטר 16 למוצר        1509\n",
              "שם סרגל מידות         1491\n",
              "סרגל מידות            1491\n",
              "מידות טקסטיל          1424\n",
              "קניין                 1419\n",
              "פרמטר 9 למוצר         1324\n",
              "הרכב בד/חומר          1246\n",
              "GSM                   1227\n",
              "תת משפחה              1152\n",
              "קטגוריית על           1140\n",
              "תאור חדר              1134\n",
              "צבע טקסטיל            1123\n",
              "ספק מועדף             1081\n",
              "שם ספק                1081\n",
              "עונה                  1077\n",
              "מטבע                  1074\n",
              "תאריך מחיר אחרון      1074\n",
              "מקור מחיר אחרון       1074\n",
              "פרמטר‎‎‎ ‎4            995\n",
              "כמות באריזה            954\n",
              "דגם                    931\n",
              "תאריך יציאה אחרון      905\n",
              "תאריך כניסה אחרון      710\n",
              "תמונה                  695\n",
              "תאור לועזי             262\n",
              "תאור פריט מרכז         221\n",
              "פריט מרכז              221\n",
              "מטבע קניה              198\n",
              "צבעים                  186\n",
              "מידות                  181\n",
              "ברקוד                   35\n",
              "תנועה אחרונה במפעל      11\n",
              "dtype: int64"
            ]
          },
          "metadata": {},
          "execution_count": 15
        }
      ]
    },
    {
      "cell_type": "code",
      "source": [
        "filter_1 = (df_items.isnull().sum()/df_items.shape[0]).sort_values(ascending=False)\n",
        "filter_1[ filter_1 > 0  ] # percentage of NaNs value"
      ],
      "metadata": {
        "colab": {
          "base_uri": "https://localhost:8080/"
        },
        "id": "AdqyuAkxGozr",
        "outputId": "074e060f-b1e4-4bed-8943-9c0e381dd30d"
      },
      "execution_count": 16,
      "outputs": [
        {
          "output_type": "execute_result",
          "data": {
            "text/plain": [
              "שם סדרה               0.955668\n",
              "פרמטר 16 למוצר        0.955668\n",
              "שם סרגל מידות         0.944269\n",
              "סרגל מידות            0.944269\n",
              "מידות טקסטיל          0.901837\n",
              "קניין                 0.898670\n",
              "פרמטר 9 למוצר         0.838505\n",
              "הרכב בד/חומר          0.789107\n",
              "GSM                   0.777074\n",
              "תת משפחה              0.729576\n",
              "קטגוריית על           0.721976\n",
              "תאור חדר              0.718176\n",
              "צבע טקסטיל            0.711210\n",
              "ספק מועדף             0.684611\n",
              "שם ספק                0.684611\n",
              "עונה                  0.682077\n",
              "מטבע                  0.680177\n",
              "תאריך מחיר אחרון      0.680177\n",
              "מקור מחיר אחרון       0.680177\n",
              "פרמטר‎‎‎ ‎4           0.630146\n",
              "כמות באריזה           0.604180\n",
              "דגם                   0.589614\n",
              "תאריך יציאה אחרון     0.573148\n",
              "תאריך כניסה אחרון     0.449652\n",
              "תמונה                 0.440152\n",
              "תאור לועזי            0.165928\n",
              "תאור פריט מרכז        0.139962\n",
              "פריט מרכז             0.139962\n",
              "מטבע קניה             0.125396\n",
              "צבעים                 0.117796\n",
              "מידות                 0.114630\n",
              "ברקוד                 0.022166\n",
              "תנועה אחרונה במפעל    0.006966\n",
              "dtype: float64"
            ]
          },
          "metadata": {},
          "execution_count": 16
        }
      ]
    },
    {
      "cell_type": "markdown",
      "source": [
        "In order to continue the process of cleaning the data, we met with the CTO and presented to him:\n",
        "\n",
        "\n",
        "*   Columns with missing values.\n",
        "*   Columns thaht had similar meaning.\n",
        "*   Columns that seemed irrelevant to the purpose of the project.\n",
        "\n",
        "After this meeting we decided to:\n",
        "*   Remove the rows where `Central_Item` is equal to `Y`.\n",
        "*   Remove another 28 columns.\n",
        "\n",
        "So we get the following data 👇"
      ],
      "metadata": {
        "id": "s5Ub9B9DvZRu"
      }
    },
    {
      "cell_type": "code",
      "source": [
        "df_items = pd.read_excel(\"/content/Nautica-Home-Project/Nautica Home - Items Catalog Clean.xlsx\")\n",
        "df_items.shape"
      ],
      "metadata": {
        "id": "BjB8Q4NV3nZC",
        "colab": {
          "base_uri": "https://localhost:8080/"
        },
        "outputId": "175cb8e2-8a70-447b-b66a-edd5fb8937fb"
      },
      "execution_count": 22,
      "outputs": [
        {
          "output_type": "execute_result",
          "data": {
            "text/plain": [
              "(1401, 22)"
            ]
          },
          "metadata": {},
          "execution_count": 22
        }
      ]
    },
    {
      "cell_type": "markdown",
      "source": [
        "This Dataframe has now 1401 rows over 22 columns, so we deleted 28 columns and 178 rows.\n"
      ],
      "metadata": {
        "id": "swXcLWgpAGuI"
      }
    },
    {
      "cell_type": "markdown",
      "source": [
        "# Second Table - 'Orders'"
      ],
      "metadata": {
        "id": "KL-fogsnjDFs"
      }
    },
    {
      "cell_type": "markdown",
      "source": [
        "## 1. Loading the Table"
      ],
      "metadata": {
        "id": "Gr_2uAFZjDF0"
      }
    },
    {
      "cell_type": "code",
      "source": [
        "df_orders = pd.read_excel(\"/content/Nautica-Home-Project/Orders.xlsx\")"
      ],
      "metadata": {
        "id": "uwDmy7DdjDF1"
      },
      "execution_count": 23,
      "outputs": []
    },
    {
      "cell_type": "code",
      "source": [
        "print(f\"This Dataframe has {df_orders.shape[0]} rows over {df_orders.shape[1]} columns\")"
      ],
      "metadata": {
        "colab": {
          "base_uri": "https://localhost:8080/"
        },
        "outputId": "d048c0a7-3351-43dc-aa3f-32e43e90f09b",
        "id": "628wkcD1jDF2"
      },
      "execution_count": 24,
      "outputs": [
        {
          "output_type": "stream",
          "name": "stdout",
          "text": [
            "This Dataframe has 7412 rows over 6 columns\n"
          ]
        }
      ]
    },
    {
      "cell_type": "code",
      "source": [
        "df_orders.head()"
      ],
      "metadata": {
        "colab": {
          "base_uri": "https://localhost:8080/",
          "height": 206
        },
        "outputId": "a5f2a9e2-0f76-41cd-9f29-aa20cf6f010d",
        "id": "hEAa8oDtjDF2"
      },
      "execution_count": 25,
      "outputs": [
        {
          "output_type": "execute_result",
          "data": {
            "text/plain": [
              "  Order_Date  Customer_ID           City    Order_ID Catalog_Number  Quantity\n",
              "0 2022-03-28       100073  תל אביב - יפו  SO22000056            100         1\n",
              "1 2022-03-28       100073  תל אביב - יפו  SO22000056   NHT3004-9-16         1\n",
              "2 2022-03-28       100073  תל אביב - יפו  SO22000056  NHT3007-15-11         1\n",
              "3 2022-04-03       100111         הרצליה  SO22000099            100         1\n",
              "4 2022-04-03       100111         הרצליה  SO22000099   NHB5080-16-3         1"
            ],
            "text/html": [
              "\n",
              "  <div id=\"df-e212e6d7-5d54-442b-9e9c-3e4c8d2289a4\">\n",
              "    <div class=\"colab-df-container\">\n",
              "      <div>\n",
              "<style scoped>\n",
              "    .dataframe tbody tr th:only-of-type {\n",
              "        vertical-align: middle;\n",
              "    }\n",
              "\n",
              "    .dataframe tbody tr th {\n",
              "        vertical-align: top;\n",
              "    }\n",
              "\n",
              "    .dataframe thead th {\n",
              "        text-align: right;\n",
              "    }\n",
              "</style>\n",
              "<table border=\"1\" class=\"dataframe\">\n",
              "  <thead>\n",
              "    <tr style=\"text-align: right;\">\n",
              "      <th></th>\n",
              "      <th>Order_Date</th>\n",
              "      <th>Customer_ID</th>\n",
              "      <th>City</th>\n",
              "      <th>Order_ID</th>\n",
              "      <th>Catalog_Number</th>\n",
              "      <th>Quantity</th>\n",
              "    </tr>\n",
              "  </thead>\n",
              "  <tbody>\n",
              "    <tr>\n",
              "      <th>0</th>\n",
              "      <td>2022-03-28</td>\n",
              "      <td>100073</td>\n",
              "      <td>תל אביב - יפו</td>\n",
              "      <td>SO22000056</td>\n",
              "      <td>100</td>\n",
              "      <td>1</td>\n",
              "    </tr>\n",
              "    <tr>\n",
              "      <th>1</th>\n",
              "      <td>2022-03-28</td>\n",
              "      <td>100073</td>\n",
              "      <td>תל אביב - יפו</td>\n",
              "      <td>SO22000056</td>\n",
              "      <td>NHT3004-9-16</td>\n",
              "      <td>1</td>\n",
              "    </tr>\n",
              "    <tr>\n",
              "      <th>2</th>\n",
              "      <td>2022-03-28</td>\n",
              "      <td>100073</td>\n",
              "      <td>תל אביב - יפו</td>\n",
              "      <td>SO22000056</td>\n",
              "      <td>NHT3007-15-11</td>\n",
              "      <td>1</td>\n",
              "    </tr>\n",
              "    <tr>\n",
              "      <th>3</th>\n",
              "      <td>2022-04-03</td>\n",
              "      <td>100111</td>\n",
              "      <td>הרצליה</td>\n",
              "      <td>SO22000099</td>\n",
              "      <td>100</td>\n",
              "      <td>1</td>\n",
              "    </tr>\n",
              "    <tr>\n",
              "      <th>4</th>\n",
              "      <td>2022-04-03</td>\n",
              "      <td>100111</td>\n",
              "      <td>הרצליה</td>\n",
              "      <td>SO22000099</td>\n",
              "      <td>NHB5080-16-3</td>\n",
              "      <td>1</td>\n",
              "    </tr>\n",
              "  </tbody>\n",
              "</table>\n",
              "</div>\n",
              "      <button class=\"colab-df-convert\" onclick=\"convertToInteractive('df-e212e6d7-5d54-442b-9e9c-3e4c8d2289a4')\"\n",
              "              title=\"Convert this dataframe to an interactive table.\"\n",
              "              style=\"display:none;\">\n",
              "        \n",
              "  <svg xmlns=\"http://www.w3.org/2000/svg\" height=\"24px\"viewBox=\"0 0 24 24\"\n",
              "       width=\"24px\">\n",
              "    <path d=\"M0 0h24v24H0V0z\" fill=\"none\"/>\n",
              "    <path d=\"M18.56 5.44l.94 2.06.94-2.06 2.06-.94-2.06-.94-.94-2.06-.94 2.06-2.06.94zm-11 1L8.5 8.5l.94-2.06 2.06-.94-2.06-.94L8.5 2.5l-.94 2.06-2.06.94zm10 10l.94 2.06.94-2.06 2.06-.94-2.06-.94-.94-2.06-.94 2.06-2.06.94z\"/><path d=\"M17.41 7.96l-1.37-1.37c-.4-.4-.92-.59-1.43-.59-.52 0-1.04.2-1.43.59L10.3 9.45l-7.72 7.72c-.78.78-.78 2.05 0 2.83L4 21.41c.39.39.9.59 1.41.59.51 0 1.02-.2 1.41-.59l7.78-7.78 2.81-2.81c.8-.78.8-2.07 0-2.86zM5.41 20L4 18.59l7.72-7.72 1.47 1.35L5.41 20z\"/>\n",
              "  </svg>\n",
              "      </button>\n",
              "      \n",
              "  <style>\n",
              "    .colab-df-container {\n",
              "      display:flex;\n",
              "      flex-wrap:wrap;\n",
              "      gap: 12px;\n",
              "    }\n",
              "\n",
              "    .colab-df-convert {\n",
              "      background-color: #E8F0FE;\n",
              "      border: none;\n",
              "      border-radius: 50%;\n",
              "      cursor: pointer;\n",
              "      display: none;\n",
              "      fill: #1967D2;\n",
              "      height: 32px;\n",
              "      padding: 0 0 0 0;\n",
              "      width: 32px;\n",
              "    }\n",
              "\n",
              "    .colab-df-convert:hover {\n",
              "      background-color: #E2EBFA;\n",
              "      box-shadow: 0px 1px 2px rgba(60, 64, 67, 0.3), 0px 1px 3px 1px rgba(60, 64, 67, 0.15);\n",
              "      fill: #174EA6;\n",
              "    }\n",
              "\n",
              "    [theme=dark] .colab-df-convert {\n",
              "      background-color: #3B4455;\n",
              "      fill: #D2E3FC;\n",
              "    }\n",
              "\n",
              "    [theme=dark] .colab-df-convert:hover {\n",
              "      background-color: #434B5C;\n",
              "      box-shadow: 0px 1px 3px 1px rgba(0, 0, 0, 0.15);\n",
              "      filter: drop-shadow(0px 1px 2px rgba(0, 0, 0, 0.3));\n",
              "      fill: #FFFFFF;\n",
              "    }\n",
              "  </style>\n",
              "\n",
              "      <script>\n",
              "        const buttonEl =\n",
              "          document.querySelector('#df-e212e6d7-5d54-442b-9e9c-3e4c8d2289a4 button.colab-df-convert');\n",
              "        buttonEl.style.display =\n",
              "          google.colab.kernel.accessAllowed ? 'block' : 'none';\n",
              "\n",
              "        async function convertToInteractive(key) {\n",
              "          const element = document.querySelector('#df-e212e6d7-5d54-442b-9e9c-3e4c8d2289a4');\n",
              "          const dataTable =\n",
              "            await google.colab.kernel.invokeFunction('convertToInteractive',\n",
              "                                                     [key], {});\n",
              "          if (!dataTable) return;\n",
              "\n",
              "          const docLinkHtml = 'Like what you see? Visit the ' +\n",
              "            '<a target=\"_blank\" href=https://colab.research.google.com/notebooks/data_table.ipynb>data table notebook</a>'\n",
              "            + ' to learn more about interactive tables.';\n",
              "          element.innerHTML = '';\n",
              "          dataTable['output_type'] = 'display_data';\n",
              "          await google.colab.output.renderOutput(dataTable, element);\n",
              "          const docLink = document.createElement('div');\n",
              "          docLink.innerHTML = docLinkHtml;\n",
              "          element.appendChild(docLink);\n",
              "        }\n",
              "      </script>\n",
              "    </div>\n",
              "  </div>\n",
              "  "
            ]
          },
          "metadata": {},
          "execution_count": 25
        }
      ]
    },
    {
      "cell_type": "markdown",
      "source": [
        "## 2. Cleanup the Table"
      ],
      "metadata": {
        "id": "A8rExyv1jDF3"
      }
    },
    {
      "cell_type": "markdown",
      "source": [
        "### 2.1 Empty columns and rows"
      ],
      "metadata": {
        "id": "4ACXXxfQjDF3"
      }
    },
    {
      "cell_type": "code",
      "source": [
        "df_orders.isnull().sum()"
      ],
      "metadata": {
        "colab": {
          "base_uri": "https://localhost:8080/"
        },
        "outputId": "84e38e0c-2e5a-497f-9dfe-f1442df625b9",
        "id": "FLZmU4WzjDF3"
      },
      "execution_count": 26,
      "outputs": [
        {
          "output_type": "execute_result",
          "data": {
            "text/plain": [
              "Order_Date        0\n",
              "Customer_ID       0\n",
              "City              3\n",
              "Order_ID          0\n",
              "Catalog_Number    0\n",
              "Quantity          0\n",
              "dtype: int64"
            ]
          },
          "metadata": {},
          "execution_count": 26
        }
      ]
    },
    {
      "cell_type": "markdown",
      "source": [
        "Note : This dataset doesn't contain **completely** NaN columns or rows.☝"
      ],
      "metadata": {
        "id": "qG9lBn2ojDF4"
      }
    },
    {
      "cell_type": "markdown",
      "source": [
        "### 2.2 Columns with single value"
      ],
      "metadata": {
        "id": "mMRH6zsdjDF6"
      }
    },
    {
      "cell_type": "code",
      "source": [
        "single_value_col = df_orders.columns[df_orders.nunique() <=1]\n",
        "single_value_col"
      ],
      "metadata": {
        "colab": {
          "base_uri": "https://localhost:8080/"
        },
        "outputId": "da302893-ec04-45d4-dcc3-f0b15f0426dc",
        "id": "vOlP4e33jDF6"
      },
      "execution_count": 27,
      "outputs": [
        {
          "output_type": "execute_result",
          "data": {
            "text/plain": [
              "Index([], dtype='object')"
            ]
          },
          "metadata": {},
          "execution_count": 27
        }
      ]
    },
    {
      "cell_type": "markdown",
      "source": [
        "Note : The dataset doesn't contain columns with single value"
      ],
      "metadata": {
        "id": "4xC3yD1IjDF6"
      }
    },
    {
      "cell_type": "markdown",
      "source": [
        "### 2.3 Duplicate Rows"
      ],
      "metadata": {
        "id": "23GCfNYVkPE9"
      }
    },
    {
      "cell_type": "code",
      "source": [
        "duplicate_rows = df_orders[df_orders.duplicated()].shape[0]\n",
        "print(f\"This Dataframe has {duplicate_rows} duplicate rows \")"
      ],
      "metadata": {
        "colab": {
          "base_uri": "https://localhost:8080/"
        },
        "id": "baOyiUmbkPFF",
        "outputId": "001ad78a-717d-48ff-cf4a-3ccb35059795"
      },
      "execution_count": 28,
      "outputs": [
        {
          "output_type": "stream",
          "name": "stdout",
          "text": [
            "This Dataframe has 0 duplicate rows \n"
          ]
        }
      ]
    },
    {
      "cell_type": "markdown",
      "source": [
        "### 2.4 Drop unnecessary columns and rows"
      ],
      "metadata": {
        "id": "hD7u0rlfjDF7"
      }
    },
    {
      "cell_type": "code",
      "source": [
        "filter = df_orders.isnull().sum().sort_values(ascending=False)\n",
        "filter[ filter > 0 ]"
      ],
      "metadata": {
        "colab": {
          "base_uri": "https://localhost:8080/"
        },
        "outputId": "9c649f65-4a6a-4d22-b415-bc7e9a14c156",
        "id": "lm1d3c5xjDF7"
      },
      "execution_count": 29,
      "outputs": [
        {
          "output_type": "execute_result",
          "data": {
            "text/plain": [
              "City    3\n",
              "dtype: int64"
            ]
          },
          "metadata": {},
          "execution_count": 29
        }
      ]
    },
    {
      "cell_type": "code",
      "source": [
        "filter_1 = (df_orders.isnull().sum()/df_orders.shape[0]).sort_values(ascending=False)\n",
        "filter_1[ filter_1 > 0  ] # percentage of NaNs value"
      ],
      "metadata": {
        "colab": {
          "base_uri": "https://localhost:8080/"
        },
        "outputId": "1fb9ad2d-91c6-4eb4-8ea1-1ac5953205e4",
        "id": "l2arjmIhjDF7"
      },
      "execution_count": 30,
      "outputs": [
        {
          "output_type": "execute_result",
          "data": {
            "text/plain": [
              "City    0.000405\n",
              "dtype: float64"
            ]
          },
          "metadata": {},
          "execution_count": 30
        }
      ]
    },
    {
      "cell_type": "markdown",
      "source": [
        "In order to continue the process of cleaning the data, we met with the CTO and presented to him:\n",
        "\n",
        "\n",
        "*   Columns with missing values.\n",
        "*   Columns with values thaht do not make sense.\n",
        "\n",
        "After this meeting we decided to :\n",
        "*   Remove the rows where `Catalog_Number` is equal to `100`.\n",
        "*   Remove the rows where `Catalog_Number` is equal to `200`.\n",
        "\n",
        "So we get the following data  👇"
      ],
      "metadata": {
        "id": "eIQFLju0jDF7"
      }
    },
    {
      "cell_type": "code",
      "source": [
        "remove = df_orders['Catalog_Number'].isin([100,200])\n",
        "df_orders = df_orders[~remove]\n",
        "df_orders"
      ],
      "metadata": {
        "colab": {
          "base_uri": "https://localhost:8080/",
          "height": 423
        },
        "id": "LiEsaT9z4FT3",
        "outputId": "dbf78390-d2ca-4eb5-9d4c-17efab312ceb"
      },
      "execution_count": 31,
      "outputs": [
        {
          "output_type": "execute_result",
          "data": {
            "text/plain": [
              "     Order_Date  Customer_ID           City    Order_ID Catalog_Number  \\\n",
              "1    2022-03-28       100073  תל אביב - יפו  SO22000056   NHT3004-9-16   \n",
              "2    2022-03-28       100073  תל אביב - יפו  SO22000056  NHT3007-15-11   \n",
              "4    2022-04-03       100111         הרצליה  SO22000099   NHB5080-16-3   \n",
              "5    2022-04-03       100111         הרצליה  SO22000099  NHB5195-16-25   \n",
              "6    2022-04-03       100111         הרצליה  SO22000099   NHB5340-16-3   \n",
              "...         ...          ...            ...         ...            ...   \n",
              "7404 2023-01-24       102184         הרצליה  SO23000265  NBRK403-10-40   \n",
              "7406 2023-01-24       102185          רעננה  SO23000266     NLW-7070M3   \n",
              "7408 2023-01-24       102186      פתח תקווה  SO23000267   NLW-71002XS6   \n",
              "7409 2023-01-24       102186      פתח תקווה  SO23000267    NLW-71003S6   \n",
              "7411 2023-01-24       102187      עין הבשור  SO23000268  NHB5300-16-11   \n",
              "\n",
              "      Quantity  \n",
              "1            1  \n",
              "2            1  \n",
              "4            1  \n",
              "5            1  \n",
              "6            1  \n",
              "...        ...  \n",
              "7404         2  \n",
              "7406         1  \n",
              "7408         1  \n",
              "7409         1  \n",
              "7411         1  \n",
              "\n",
              "[5265 rows x 6 columns]"
            ],
            "text/html": [
              "\n",
              "  <div id=\"df-0391d4b5-4546-44ee-80ee-2c7bbb35e35c\">\n",
              "    <div class=\"colab-df-container\">\n",
              "      <div>\n",
              "<style scoped>\n",
              "    .dataframe tbody tr th:only-of-type {\n",
              "        vertical-align: middle;\n",
              "    }\n",
              "\n",
              "    .dataframe tbody tr th {\n",
              "        vertical-align: top;\n",
              "    }\n",
              "\n",
              "    .dataframe thead th {\n",
              "        text-align: right;\n",
              "    }\n",
              "</style>\n",
              "<table border=\"1\" class=\"dataframe\">\n",
              "  <thead>\n",
              "    <tr style=\"text-align: right;\">\n",
              "      <th></th>\n",
              "      <th>Order_Date</th>\n",
              "      <th>Customer_ID</th>\n",
              "      <th>City</th>\n",
              "      <th>Order_ID</th>\n",
              "      <th>Catalog_Number</th>\n",
              "      <th>Quantity</th>\n",
              "    </tr>\n",
              "  </thead>\n",
              "  <tbody>\n",
              "    <tr>\n",
              "      <th>1</th>\n",
              "      <td>2022-03-28</td>\n",
              "      <td>100073</td>\n",
              "      <td>תל אביב - יפו</td>\n",
              "      <td>SO22000056</td>\n",
              "      <td>NHT3004-9-16</td>\n",
              "      <td>1</td>\n",
              "    </tr>\n",
              "    <tr>\n",
              "      <th>2</th>\n",
              "      <td>2022-03-28</td>\n",
              "      <td>100073</td>\n",
              "      <td>תל אביב - יפו</td>\n",
              "      <td>SO22000056</td>\n",
              "      <td>NHT3007-15-11</td>\n",
              "      <td>1</td>\n",
              "    </tr>\n",
              "    <tr>\n",
              "      <th>4</th>\n",
              "      <td>2022-04-03</td>\n",
              "      <td>100111</td>\n",
              "      <td>הרצליה</td>\n",
              "      <td>SO22000099</td>\n",
              "      <td>NHB5080-16-3</td>\n",
              "      <td>1</td>\n",
              "    </tr>\n",
              "    <tr>\n",
              "      <th>5</th>\n",
              "      <td>2022-04-03</td>\n",
              "      <td>100111</td>\n",
              "      <td>הרצליה</td>\n",
              "      <td>SO22000099</td>\n",
              "      <td>NHB5195-16-25</td>\n",
              "      <td>1</td>\n",
              "    </tr>\n",
              "    <tr>\n",
              "      <th>6</th>\n",
              "      <td>2022-04-03</td>\n",
              "      <td>100111</td>\n",
              "      <td>הרצליה</td>\n",
              "      <td>SO22000099</td>\n",
              "      <td>NHB5340-16-3</td>\n",
              "      <td>1</td>\n",
              "    </tr>\n",
              "    <tr>\n",
              "      <th>...</th>\n",
              "      <td>...</td>\n",
              "      <td>...</td>\n",
              "      <td>...</td>\n",
              "      <td>...</td>\n",
              "      <td>...</td>\n",
              "      <td>...</td>\n",
              "    </tr>\n",
              "    <tr>\n",
              "      <th>7404</th>\n",
              "      <td>2023-01-24</td>\n",
              "      <td>102184</td>\n",
              "      <td>הרצליה</td>\n",
              "      <td>SO23000265</td>\n",
              "      <td>NBRK403-10-40</td>\n",
              "      <td>2</td>\n",
              "    </tr>\n",
              "    <tr>\n",
              "      <th>7406</th>\n",
              "      <td>2023-01-24</td>\n",
              "      <td>102185</td>\n",
              "      <td>רעננה</td>\n",
              "      <td>SO23000266</td>\n",
              "      <td>NLW-7070M3</td>\n",
              "      <td>1</td>\n",
              "    </tr>\n",
              "    <tr>\n",
              "      <th>7408</th>\n",
              "      <td>2023-01-24</td>\n",
              "      <td>102186</td>\n",
              "      <td>פתח תקווה</td>\n",
              "      <td>SO23000267</td>\n",
              "      <td>NLW-71002XS6</td>\n",
              "      <td>1</td>\n",
              "    </tr>\n",
              "    <tr>\n",
              "      <th>7409</th>\n",
              "      <td>2023-01-24</td>\n",
              "      <td>102186</td>\n",
              "      <td>פתח תקווה</td>\n",
              "      <td>SO23000267</td>\n",
              "      <td>NLW-71003S6</td>\n",
              "      <td>1</td>\n",
              "    </tr>\n",
              "    <tr>\n",
              "      <th>7411</th>\n",
              "      <td>2023-01-24</td>\n",
              "      <td>102187</td>\n",
              "      <td>עין הבשור</td>\n",
              "      <td>SO23000268</td>\n",
              "      <td>NHB5300-16-11</td>\n",
              "      <td>1</td>\n",
              "    </tr>\n",
              "  </tbody>\n",
              "</table>\n",
              "<p>5265 rows × 6 columns</p>\n",
              "</div>\n",
              "      <button class=\"colab-df-convert\" onclick=\"convertToInteractive('df-0391d4b5-4546-44ee-80ee-2c7bbb35e35c')\"\n",
              "              title=\"Convert this dataframe to an interactive table.\"\n",
              "              style=\"display:none;\">\n",
              "        \n",
              "  <svg xmlns=\"http://www.w3.org/2000/svg\" height=\"24px\"viewBox=\"0 0 24 24\"\n",
              "       width=\"24px\">\n",
              "    <path d=\"M0 0h24v24H0V0z\" fill=\"none\"/>\n",
              "    <path d=\"M18.56 5.44l.94 2.06.94-2.06 2.06-.94-2.06-.94-.94-2.06-.94 2.06-2.06.94zm-11 1L8.5 8.5l.94-2.06 2.06-.94-2.06-.94L8.5 2.5l-.94 2.06-2.06.94zm10 10l.94 2.06.94-2.06 2.06-.94-2.06-.94-.94-2.06-.94 2.06-2.06.94z\"/><path d=\"M17.41 7.96l-1.37-1.37c-.4-.4-.92-.59-1.43-.59-.52 0-1.04.2-1.43.59L10.3 9.45l-7.72 7.72c-.78.78-.78 2.05 0 2.83L4 21.41c.39.39.9.59 1.41.59.51 0 1.02-.2 1.41-.59l7.78-7.78 2.81-2.81c.8-.78.8-2.07 0-2.86zM5.41 20L4 18.59l7.72-7.72 1.47 1.35L5.41 20z\"/>\n",
              "  </svg>\n",
              "      </button>\n",
              "      \n",
              "  <style>\n",
              "    .colab-df-container {\n",
              "      display:flex;\n",
              "      flex-wrap:wrap;\n",
              "      gap: 12px;\n",
              "    }\n",
              "\n",
              "    .colab-df-convert {\n",
              "      background-color: #E8F0FE;\n",
              "      border: none;\n",
              "      border-radius: 50%;\n",
              "      cursor: pointer;\n",
              "      display: none;\n",
              "      fill: #1967D2;\n",
              "      height: 32px;\n",
              "      padding: 0 0 0 0;\n",
              "      width: 32px;\n",
              "    }\n",
              "\n",
              "    .colab-df-convert:hover {\n",
              "      background-color: #E2EBFA;\n",
              "      box-shadow: 0px 1px 2px rgba(60, 64, 67, 0.3), 0px 1px 3px 1px rgba(60, 64, 67, 0.15);\n",
              "      fill: #174EA6;\n",
              "    }\n",
              "\n",
              "    [theme=dark] .colab-df-convert {\n",
              "      background-color: #3B4455;\n",
              "      fill: #D2E3FC;\n",
              "    }\n",
              "\n",
              "    [theme=dark] .colab-df-convert:hover {\n",
              "      background-color: #434B5C;\n",
              "      box-shadow: 0px 1px 3px 1px rgba(0, 0, 0, 0.15);\n",
              "      filter: drop-shadow(0px 1px 2px rgba(0, 0, 0, 0.3));\n",
              "      fill: #FFFFFF;\n",
              "    }\n",
              "  </style>\n",
              "\n",
              "      <script>\n",
              "        const buttonEl =\n",
              "          document.querySelector('#df-0391d4b5-4546-44ee-80ee-2c7bbb35e35c button.colab-df-convert');\n",
              "        buttonEl.style.display =\n",
              "          google.colab.kernel.accessAllowed ? 'block' : 'none';\n",
              "\n",
              "        async function convertToInteractive(key) {\n",
              "          const element = document.querySelector('#df-0391d4b5-4546-44ee-80ee-2c7bbb35e35c');\n",
              "          const dataTable =\n",
              "            await google.colab.kernel.invokeFunction('convertToInteractive',\n",
              "                                                     [key], {});\n",
              "          if (!dataTable) return;\n",
              "\n",
              "          const docLinkHtml = 'Like what you see? Visit the ' +\n",
              "            '<a target=\"_blank\" href=https://colab.research.google.com/notebooks/data_table.ipynb>data table notebook</a>'\n",
              "            + ' to learn more about interactive tables.';\n",
              "          element.innerHTML = '';\n",
              "          dataTable['output_type'] = 'display_data';\n",
              "          await google.colab.output.renderOutput(dataTable, element);\n",
              "          const docLink = document.createElement('div');\n",
              "          docLink.innerHTML = docLinkHtml;\n",
              "          element.appendChild(docLink);\n",
              "        }\n",
              "      </script>\n",
              "    </div>\n",
              "  </div>\n",
              "  "
            ]
          },
          "metadata": {},
          "execution_count": 31
        }
      ]
    },
    {
      "cell_type": "code",
      "source": [
        "df_orders.shape"
      ],
      "metadata": {
        "id": "a1Y6zek-jDF8",
        "colab": {
          "base_uri": "https://localhost:8080/"
        },
        "outputId": "7337e211-50f2-4e2f-cc05-2e95741c2370"
      },
      "execution_count": 32,
      "outputs": [
        {
          "output_type": "execute_result",
          "data": {
            "text/plain": [
              "(5265, 6)"
            ]
          },
          "metadata": {},
          "execution_count": 32
        }
      ]
    },
    {
      "cell_type": "markdown",
      "source": [
        "This Dataframe has now 5265 rows over 6 columns, so we deleted 0 columns and 2147 rows."
      ],
      "metadata": {
        "id": "vP8kHOgT5vKB"
      }
    },
    {
      "cell_type": "code",
      "source": [
        "df_orders.isnull().sum()"
      ],
      "metadata": {
        "colab": {
          "base_uri": "https://localhost:8080/"
        },
        "id": "17mMgSTZ6P_o",
        "outputId": "4e025943-6a58-40e3-daa3-f988022c65ea"
      },
      "execution_count": 33,
      "outputs": [
        {
          "output_type": "execute_result",
          "data": {
            "text/plain": [
              "Order_Date        0\n",
              "Customer_ID       0\n",
              "City              2\n",
              "Order_ID          0\n",
              "Catalog_Number    0\n",
              "Quantity          0\n",
              "dtype: int64"
            ]
          },
          "metadata": {},
          "execution_count": 33
        }
      ]
    }
  ]
}