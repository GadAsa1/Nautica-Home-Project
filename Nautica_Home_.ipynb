{
  "nbformat": 4,
  "nbformat_minor": 0,
  "metadata": {
    "colab": {
      "provenance": [],
      "collapsed_sections": [
        "CGT74N1Z-byU",
        "0LY6YiN9blKx",
        "Gr_2uAFZjDF0"
      ],
      "toc_visible": true,
      "authorship_tag": "ABX9TyN6QYIOHHNiepQzR/7CWh6t",
      "include_colab_link": true
    },
    "kernelspec": {
      "name": "python3",
      "display_name": "Python 3"
    },
    "language_info": {
      "name": "python"
    }
  },
  "cells": [
    {
      "cell_type": "markdown",
      "metadata": {
        "id": "view-in-github",
        "colab_type": "text"
      },
      "source": [
        "<a href=\"https://colab.research.google.com/github/GadAsa1/Nautica-Home-Project/blob/main/Nautica_Home_.ipynb\" target=\"_parent\"><img src=\"https://colab.research.google.com/assets/colab-badge.svg\" alt=\"Open In Colab\"/></a>"
      ]
    },
    {
      "cell_type": "markdown",
      "source": [
        "# Nautica Home Data Analysis"
      ],
      "metadata": {
        "id": "aoyClFCt7aqf"
      }
    },
    {
      "cell_type": "markdown",
      "source": [
        "# Loading the libaries"
      ],
      "metadata": {
        "id": "j2grlCNf71cS"
      }
    },
    {
      "cell_type": "code",
      "source": [
        "import pandas as pd\n",
        "import matplotlib.pyplot as plt\n",
        "import numpy as np"
      ],
      "metadata": {
        "id": "waGDlabj8GH6"
      },
      "execution_count": null,
      "outputs": []
    },
    {
      "cell_type": "code",
      "source": [
        "! git clone https://github.com/GadAsa1/Nautica-Home-Project.git # Connect to Github"
      ],
      "metadata": {
        "colab": {
          "base_uri": "https://localhost:8080/"
        },
        "id": "ojE1aOAWZ2X3",
        "outputId": "8a62fc35-7938-4346-c7ac-79488895a5d0"
      },
      "execution_count": null,
      "outputs": [
        {
          "output_type": "stream",
          "name": "stdout",
          "text": [
            "Cloning into 'Nautica-Home-Project'...\n",
            "remote: Enumerating objects: 9, done.\u001b[K\n",
            "remote: Counting objects: 100% (9/9), done.\u001b[K\n",
            "remote: Compressing objects: 100% (9/9), done.\u001b[K\n",
            "remote: Total 9 (delta 1), reused 0 (delta 0), pack-reused 0\u001b[K\n",
            "Unpacking objects: 100% (9/9), 749.34 KiB | 1012.00 KiB/s, done.\n"
          ]
        }
      ]
    },
    {
      "cell_type": "markdown",
      "source": [
        "# First Table - 'Items'"
      ],
      "metadata": {
        "id": "PHmtJLNBSC8v"
      }
    },
    {
      "cell_type": "markdown",
      "source": [
        "## 1. Loading the Table"
      ],
      "metadata": {
        "id": "CGT74N1Z-byU"
      }
    },
    {
      "cell_type": "code",
      "source": [
        "df_items = pd.read_excel(\"/content/Nautica-Home-Project/Nautica Home - Items Catalog.xlsx\")"
      ],
      "metadata": {
        "id": "R20sWFEL-h5z"
      },
      "execution_count": null,
      "outputs": []
    },
    {
      "cell_type": "code",
      "source": [
        "print(f\"This Dataframe has {df_items.shape[0]} rows over {df_items.shape[1]} columns\")"
      ],
      "metadata": {
        "colab": {
          "base_uri": "https://localhost:8080/"
        },
        "id": "xggWUpPbAeSf",
        "outputId": "84485583-3ffa-4cce-a97f-e9851ee4d85e"
      },
      "execution_count": null,
      "outputs": [
        {
          "output_type": "stream",
          "name": "stdout",
          "text": [
            "This Dataframe has 1579 rows over 104 columns\n"
          ]
        }
      ]
    },
    {
      "cell_type": "code",
      "source": [
        "df_items.head()"
      ],
      "metadata": {
        "colab": {
          "base_uri": "https://localhost:8080/",
          "height": 698
        },
        "id": "jDAn5SpNAy5g",
        "outputId": "6e96959b-5e14-4e60-a268-dd3e17f72ab9"
      },
      "execution_count": null,
      "outputs": [
        {
          "output_type": "execute_result",
          "data": {
            "text/plain": [
              "              מק\"ט          ברקוד                תאור  \\\n",
              "0        231200200      231200200  צלחת עיקרית 27 ס\"מ   \n",
              "1  231200200-02-27  7297619005943  צלחת עיקרית 27 ס\"מ   \n",
              "2  231200200-19-27  7297619005936  צלחת עיקרית 27 ס\"מ   \n",
              "3        231200201      231200201  צלחת ראשונה 23 ס\"מ   \n",
              "4  231200201-02-20  7297619005967  צלחת ראשונה 23 ס\"מ   \n",
              "\n",
              "                           תאור לועזי סטטוס טיפוס מנוהל מלאי? שינוי תאור?  \\\n",
              "0  10.5' Shallow Plate - DINNER PLATE  פעיל     R           Y         NaN   \n",
              "1  10.5' Shallow Plate - DINNER PLATE  פעיל     R           Y         NaN   \n",
              "2  10.5' Shallow Plate - DINNER PLATE  פעיל     R           Y         NaN   \n",
              "3      8' Shallow Plate - SALAD PLATE  פעיל     R           Y         NaN   \n",
              "4      8' Shallow Plate - SALAD PLATE  פעיל     R           Y         NaN   \n",
              "\n",
              "   מנוהל מס. סידוריים?  רכש אינטרנט?  ... מק\"ט חסוי? דרופשיפינג  \\\n",
              "0                  NaN           NaN  ...        NaN        NaN   \n",
              "1                  NaN           NaN  ...        NaN        NaN   \n",
              "2                  NaN           NaN  ...        NaN        NaN   \n",
              "3                  NaN           NaN  ...        NaN        NaN   \n",
              "4                  NaN           NaN  ...        NaN        NaN   \n",
              "\n",
              "  חיוב נלווה להשכרות מידות טקסטיל מטבע קנייה 2  מחיר קנייה 2  שם ספק מועדף 2  \\\n",
              "0                NaN          NaN          NaN             0             NaN   \n",
              "1                NaN          NaN          NaN             0             NaN   \n",
              "2                NaN          NaN          NaN             0             NaN   \n",
              "3                NaN          NaN          NaN             0             NaN   \n",
              "4                NaN          NaN          NaN             0             NaN   \n",
              "\n",
              "  ספק מועדף 2 מטבע של סה\"כ מ.קנייה  סה\"כ מחיר קנייה  \n",
              "0         NaN                  NaN                0  \n",
              "1         NaN                  NaN                0  \n",
              "2         NaN                  NaN                0  \n",
              "3         NaN                  NaN                0  \n",
              "4         NaN                  NaN                0  \n",
              "\n",
              "[5 rows x 104 columns]"
            ],
            "text/html": [
              "\n",
              "  <div id=\"df-33abd74b-d52d-4e2f-8102-a1e0dabfdad2\">\n",
              "    <div class=\"colab-df-container\">\n",
              "      <div>\n",
              "<style scoped>\n",
              "    .dataframe tbody tr th:only-of-type {\n",
              "        vertical-align: middle;\n",
              "    }\n",
              "\n",
              "    .dataframe tbody tr th {\n",
              "        vertical-align: top;\n",
              "    }\n",
              "\n",
              "    .dataframe thead th {\n",
              "        text-align: right;\n",
              "    }\n",
              "</style>\n",
              "<table border=\"1\" class=\"dataframe\">\n",
              "  <thead>\n",
              "    <tr style=\"text-align: right;\">\n",
              "      <th></th>\n",
              "      <th>מק\"ט</th>\n",
              "      <th>ברקוד</th>\n",
              "      <th>תאור</th>\n",
              "      <th>תאור לועזי</th>\n",
              "      <th>סטטוס</th>\n",
              "      <th>טיפוס</th>\n",
              "      <th>מנוהל מלאי?</th>\n",
              "      <th>שינוי תאור?</th>\n",
              "      <th>מנוהל מס. סידוריים?</th>\n",
              "      <th>רכש אינטרנט?</th>\n",
              "      <th>...</th>\n",
              "      <th>מק\"ט חסוי?</th>\n",
              "      <th>דרופשיפינג</th>\n",
              "      <th>חיוב נלווה להשכרות</th>\n",
              "      <th>מידות טקסטיל</th>\n",
              "      <th>מטבע קנייה 2</th>\n",
              "      <th>מחיר קנייה 2</th>\n",
              "      <th>שם ספק מועדף 2</th>\n",
              "      <th>ספק מועדף 2</th>\n",
              "      <th>מטבע של סה\"כ מ.קנייה</th>\n",
              "      <th>סה\"כ מחיר קנייה</th>\n",
              "    </tr>\n",
              "  </thead>\n",
              "  <tbody>\n",
              "    <tr>\n",
              "      <th>0</th>\n",
              "      <td>231200200</td>\n",
              "      <td>231200200</td>\n",
              "      <td>צלחת עיקרית 27 ס\"מ</td>\n",
              "      <td>10.5' Shallow Plate - DINNER PLATE</td>\n",
              "      <td>פעיל</td>\n",
              "      <td>R</td>\n",
              "      <td>Y</td>\n",
              "      <td>NaN</td>\n",
              "      <td>NaN</td>\n",
              "      <td>NaN</td>\n",
              "      <td>...</td>\n",
              "      <td>NaN</td>\n",
              "      <td>NaN</td>\n",
              "      <td>NaN</td>\n",
              "      <td>NaN</td>\n",
              "      <td>NaN</td>\n",
              "      <td>0</td>\n",
              "      <td>NaN</td>\n",
              "      <td>NaN</td>\n",
              "      <td>NaN</td>\n",
              "      <td>0</td>\n",
              "    </tr>\n",
              "    <tr>\n",
              "      <th>1</th>\n",
              "      <td>231200200-02-27</td>\n",
              "      <td>7297619005943</td>\n",
              "      <td>צלחת עיקרית 27 ס\"מ</td>\n",
              "      <td>10.5' Shallow Plate - DINNER PLATE</td>\n",
              "      <td>פעיל</td>\n",
              "      <td>R</td>\n",
              "      <td>Y</td>\n",
              "      <td>NaN</td>\n",
              "      <td>NaN</td>\n",
              "      <td>NaN</td>\n",
              "      <td>...</td>\n",
              "      <td>NaN</td>\n",
              "      <td>NaN</td>\n",
              "      <td>NaN</td>\n",
              "      <td>NaN</td>\n",
              "      <td>NaN</td>\n",
              "      <td>0</td>\n",
              "      <td>NaN</td>\n",
              "      <td>NaN</td>\n",
              "      <td>NaN</td>\n",
              "      <td>0</td>\n",
              "    </tr>\n",
              "    <tr>\n",
              "      <th>2</th>\n",
              "      <td>231200200-19-27</td>\n",
              "      <td>7297619005936</td>\n",
              "      <td>צלחת עיקרית 27 ס\"מ</td>\n",
              "      <td>10.5' Shallow Plate - DINNER PLATE</td>\n",
              "      <td>פעיל</td>\n",
              "      <td>R</td>\n",
              "      <td>Y</td>\n",
              "      <td>NaN</td>\n",
              "      <td>NaN</td>\n",
              "      <td>NaN</td>\n",
              "      <td>...</td>\n",
              "      <td>NaN</td>\n",
              "      <td>NaN</td>\n",
              "      <td>NaN</td>\n",
              "      <td>NaN</td>\n",
              "      <td>NaN</td>\n",
              "      <td>0</td>\n",
              "      <td>NaN</td>\n",
              "      <td>NaN</td>\n",
              "      <td>NaN</td>\n",
              "      <td>0</td>\n",
              "    </tr>\n",
              "    <tr>\n",
              "      <th>3</th>\n",
              "      <td>231200201</td>\n",
              "      <td>231200201</td>\n",
              "      <td>צלחת ראשונה 23 ס\"מ</td>\n",
              "      <td>8' Shallow Plate - SALAD PLATE</td>\n",
              "      <td>פעיל</td>\n",
              "      <td>R</td>\n",
              "      <td>Y</td>\n",
              "      <td>NaN</td>\n",
              "      <td>NaN</td>\n",
              "      <td>NaN</td>\n",
              "      <td>...</td>\n",
              "      <td>NaN</td>\n",
              "      <td>NaN</td>\n",
              "      <td>NaN</td>\n",
              "      <td>NaN</td>\n",
              "      <td>NaN</td>\n",
              "      <td>0</td>\n",
              "      <td>NaN</td>\n",
              "      <td>NaN</td>\n",
              "      <td>NaN</td>\n",
              "      <td>0</td>\n",
              "    </tr>\n",
              "    <tr>\n",
              "      <th>4</th>\n",
              "      <td>231200201-02-20</td>\n",
              "      <td>7297619005967</td>\n",
              "      <td>צלחת ראשונה 23 ס\"מ</td>\n",
              "      <td>8' Shallow Plate - SALAD PLATE</td>\n",
              "      <td>פעיל</td>\n",
              "      <td>R</td>\n",
              "      <td>Y</td>\n",
              "      <td>NaN</td>\n",
              "      <td>NaN</td>\n",
              "      <td>NaN</td>\n",
              "      <td>...</td>\n",
              "      <td>NaN</td>\n",
              "      <td>NaN</td>\n",
              "      <td>NaN</td>\n",
              "      <td>NaN</td>\n",
              "      <td>NaN</td>\n",
              "      <td>0</td>\n",
              "      <td>NaN</td>\n",
              "      <td>NaN</td>\n",
              "      <td>NaN</td>\n",
              "      <td>0</td>\n",
              "    </tr>\n",
              "  </tbody>\n",
              "</table>\n",
              "<p>5 rows × 104 columns</p>\n",
              "</div>\n",
              "      <button class=\"colab-df-convert\" onclick=\"convertToInteractive('df-33abd74b-d52d-4e2f-8102-a1e0dabfdad2')\"\n",
              "              title=\"Convert this dataframe to an interactive table.\"\n",
              "              style=\"display:none;\">\n",
              "        \n",
              "  <svg xmlns=\"http://www.w3.org/2000/svg\" height=\"24px\"viewBox=\"0 0 24 24\"\n",
              "       width=\"24px\">\n",
              "    <path d=\"M0 0h24v24H0V0z\" fill=\"none\"/>\n",
              "    <path d=\"M18.56 5.44l.94 2.06.94-2.06 2.06-.94-2.06-.94-.94-2.06-.94 2.06-2.06.94zm-11 1L8.5 8.5l.94-2.06 2.06-.94-2.06-.94L8.5 2.5l-.94 2.06-2.06.94zm10 10l.94 2.06.94-2.06 2.06-.94-2.06-.94-.94-2.06-.94 2.06-2.06.94z\"/><path d=\"M17.41 7.96l-1.37-1.37c-.4-.4-.92-.59-1.43-.59-.52 0-1.04.2-1.43.59L10.3 9.45l-7.72 7.72c-.78.78-.78 2.05 0 2.83L4 21.41c.39.39.9.59 1.41.59.51 0 1.02-.2 1.41-.59l7.78-7.78 2.81-2.81c.8-.78.8-2.07 0-2.86zM5.41 20L4 18.59l7.72-7.72 1.47 1.35L5.41 20z\"/>\n",
              "  </svg>\n",
              "      </button>\n",
              "      \n",
              "  <style>\n",
              "    .colab-df-container {\n",
              "      display:flex;\n",
              "      flex-wrap:wrap;\n",
              "      gap: 12px;\n",
              "    }\n",
              "\n",
              "    .colab-df-convert {\n",
              "      background-color: #E8F0FE;\n",
              "      border: none;\n",
              "      border-radius: 50%;\n",
              "      cursor: pointer;\n",
              "      display: none;\n",
              "      fill: #1967D2;\n",
              "      height: 32px;\n",
              "      padding: 0 0 0 0;\n",
              "      width: 32px;\n",
              "    }\n",
              "\n",
              "    .colab-df-convert:hover {\n",
              "      background-color: #E2EBFA;\n",
              "      box-shadow: 0px 1px 2px rgba(60, 64, 67, 0.3), 0px 1px 3px 1px rgba(60, 64, 67, 0.15);\n",
              "      fill: #174EA6;\n",
              "    }\n",
              "\n",
              "    [theme=dark] .colab-df-convert {\n",
              "      background-color: #3B4455;\n",
              "      fill: #D2E3FC;\n",
              "    }\n",
              "\n",
              "    [theme=dark] .colab-df-convert:hover {\n",
              "      background-color: #434B5C;\n",
              "      box-shadow: 0px 1px 3px 1px rgba(0, 0, 0, 0.15);\n",
              "      filter: drop-shadow(0px 1px 2px rgba(0, 0, 0, 0.3));\n",
              "      fill: #FFFFFF;\n",
              "    }\n",
              "  </style>\n",
              "\n",
              "      <script>\n",
              "        const buttonEl =\n",
              "          document.querySelector('#df-33abd74b-d52d-4e2f-8102-a1e0dabfdad2 button.colab-df-convert');\n",
              "        buttonEl.style.display =\n",
              "          google.colab.kernel.accessAllowed ? 'block' : 'none';\n",
              "\n",
              "        async function convertToInteractive(key) {\n",
              "          const element = document.querySelector('#df-33abd74b-d52d-4e2f-8102-a1e0dabfdad2');\n",
              "          const dataTable =\n",
              "            await google.colab.kernel.invokeFunction('convertToInteractive',\n",
              "                                                     [key], {});\n",
              "          if (!dataTable) return;\n",
              "\n",
              "          const docLinkHtml = 'Like what you see? Visit the ' +\n",
              "            '<a target=\"_blank\" href=https://colab.research.google.com/notebooks/data_table.ipynb>data table notebook</a>'\n",
              "            + ' to learn more about interactive tables.';\n",
              "          element.innerHTML = '';\n",
              "          dataTable['output_type'] = 'display_data';\n",
              "          await google.colab.output.renderOutput(dataTable, element);\n",
              "          const docLink = document.createElement('div');\n",
              "          docLink.innerHTML = docLinkHtml;\n",
              "          element.appendChild(docLink);\n",
              "        }\n",
              "      </script>\n",
              "    </div>\n",
              "  </div>\n",
              "  "
            ]
          },
          "metadata": {},
          "execution_count": 5
        }
      ]
    },
    {
      "cell_type": "markdown",
      "source": [
        "## 2. Cleanup the Table"
      ],
      "metadata": {
        "id": "tQs94teKC5fY"
      }
    },
    {
      "cell_type": "markdown",
      "source": [
        "### 2.1 Empty columns and rows"
      ],
      "metadata": {
        "id": "2bquHCB3bSoo"
      }
    },
    {
      "cell_type": "code",
      "source": [
        "df_items.isnull().sum()"
      ],
      "metadata": {
        "colab": {
          "base_uri": "https://localhost:8080/"
        },
        "id": "Yjeqri87DGIa",
        "outputId": "809692df-28b0-4a06-866d-3519a36ed6af"
      },
      "execution_count": null,
      "outputs": [
        {
          "output_type": "execute_result",
          "data": {
            "text/plain": [
              "מק\"ט                       0\n",
              "ברקוד                     35\n",
              "תאור                       0\n",
              "תאור לועזי               262\n",
              "סטטוס                      0\n",
              "                        ... \n",
              "מחיר קנייה 2               0\n",
              "שם ספק מועדף 2          1579\n",
              "ספק מועדף 2             1579\n",
              "מטבע של סה\"כ מ.קנייה    1579\n",
              "סה\"כ מחיר קנייה            0\n",
              "Length: 104, dtype: int64"
            ]
          },
          "metadata": {},
          "execution_count": 6
        }
      ]
    },
    {
      "cell_type": "markdown",
      "source": [
        "Note : The dataset contain NaN values so cleanup in this area is requierd.☝ "
      ],
      "metadata": {
        "id": "10-K2UWZbbGC"
      }
    },
    {
      "cell_type": "code",
      "source": [
        "#pd.options.display.max_rows = 999"
      ],
      "metadata": {
        "id": "XyWxe33tDUCT"
      },
      "execution_count": null,
      "outputs": []
    },
    {
      "cell_type": "code",
      "source": [
        "df_items = df_items.dropna(axis = 1, how = 'all') # drop an axis completely empty"
      ],
      "metadata": {
        "id": "lAhmSoR4NOe3"
      },
      "execution_count": null,
      "outputs": []
    },
    {
      "cell_type": "code",
      "source": [
        "df_items =df_items.dropna(axis = 0, how = 'all')  # drop an row completely empty"
      ],
      "metadata": {
        "id": "-lD1P6cwNSqb"
      },
      "execution_count": null,
      "outputs": []
    },
    {
      "cell_type": "markdown",
      "source": [
        " Cleaning the empty columns and rows ☝"
      ],
      "metadata": {
        "id": "t-jGgy_qed5q"
      }
    },
    {
      "cell_type": "code",
      "source": [
        "df_items.shape"
      ],
      "metadata": {
        "colab": {
          "base_uri": "https://localhost:8080/"
        },
        "id": "gXzkIz9GkYwl",
        "outputId": "2138c70e-7444-4dda-dc29-26abada42092"
      },
      "execution_count": null,
      "outputs": [
        {
          "output_type": "execute_result",
          "data": {
            "text/plain": [
              "(1579, 73)"
            ]
          },
          "metadata": {},
          "execution_count": 10
        }
      ]
    },
    {
      "cell_type": "markdown",
      "source": [
        "This Dataframe has now 1579 rows over 73 columns, so we deleted 31 columns and 0 rows."
      ],
      "metadata": {
        "id": "Z0s5w7m8ksJd"
      }
    },
    {
      "cell_type": "markdown",
      "source": [
        "### 2.2 Columns with single value"
      ],
      "metadata": {
        "id": "0LY6YiN9blKx"
      }
    },
    {
      "cell_type": "code",
      "source": [
        "single_value_col = df_items.columns[df_items.nunique() <=1]\n",
        "single_value_col"
      ],
      "metadata": {
        "colab": {
          "base_uri": "https://localhost:8080/"
        },
        "id": "uP6mjDiJcLUr",
        "outputId": "b14d457a-f67e-419b-e51e-f32ae38af123"
      },
      "execution_count": null,
      "outputs": [
        {
          "output_type": "execute_result",
          "data": {
            "text/plain": [
              "Index(['סטטוס', 'טיפוס', 'מנוהל מלאי?', 'שינוי תאור?', 'יח' קניה/מכירה',\n",
              "       'יח' מפעל', 'שעור המרה', 'פריט מרכז?', 'מטבע המחירון', 'מחיר סיטונאות',\n",
              "       'ת.  תמחיר', 'מטבע מחיר מינימום', 'מחיר מינימום', 'FOB',\n",
              "       'סכום מירבי לתיקון', 'שנה', 'מדיניות מחירים', 'מאפיין סופר פארם',\n",
              "       'סדר ליקוט', 'חודשי DC מותרים', 'חודשי DC לאחסון', 'מינימום ימי תוקף',\n",
              "       'מחיר קנייה 2'],\n",
              "      dtype='object')"
            ]
          },
          "metadata": {},
          "execution_count": 11
        }
      ]
    },
    {
      "cell_type": "code",
      "source": [
        "df_items = df_items.drop(single_value_col, axis = 1)  # Cleaning the columns with a simgle value"
      ],
      "metadata": {
        "id": "4p2NpL-Jd-fA"
      },
      "execution_count": null,
      "outputs": []
    },
    {
      "cell_type": "code",
      "source": [
        "df_items.shape"
      ],
      "metadata": {
        "colab": {
          "base_uri": "https://localhost:8080/"
        },
        "outputId": "9ee6beab-f40f-4995-d2d3-4c654a9db048",
        "id": "5-87dd9_iPDx"
      },
      "execution_count": null,
      "outputs": [
        {
          "output_type": "execute_result",
          "data": {
            "text/plain": [
              "(1579, 50)"
            ]
          },
          "metadata": {},
          "execution_count": 13
        }
      ]
    },
    {
      "cell_type": "markdown",
      "source": [
        "This Dataframe has now 1579 rows over 50 columns, so we deleted another 23 columns."
      ],
      "metadata": {
        "id": "ISKBzlNBiPDx"
      }
    },
    {
      "cell_type": "markdown",
      "source": [
        "### 2.3 Duplicate Rows"
      ],
      "metadata": {
        "id": "-SzzRfaCBkA6"
      }
    },
    {
      "cell_type": "code",
      "source": [
        "duplicate_rows = df_items[df_items.duplicated()].shape[0]\n",
        "print(f\"This Dataframe has {duplicate_rows} duplicate rows \")"
      ],
      "metadata": {
        "colab": {
          "base_uri": "https://localhost:8080/"
        },
        "id": "K6om4OMABix8",
        "outputId": "38575ebf-db7d-4663-fa9b-0e87595dc483"
      },
      "execution_count": null,
      "outputs": [
        {
          "output_type": "stream",
          "name": "stdout",
          "text": [
            "This Dataframe has 0 duplicate rows \n"
          ]
        }
      ]
    },
    {
      "cell_type": "markdown",
      "source": [
        "### 2.4 Drop unnecessary columns and rows"
      ],
      "metadata": {
        "id": "H-Ga7mlMj6Zl"
      }
    },
    {
      "cell_type": "code",
      "source": [
        "filter = df_items.isnull().sum().sort_values(ascending=False)\n",
        "filter[ filter > 0 ]"
      ],
      "metadata": {
        "colab": {
          "base_uri": "https://localhost:8080/"
        },
        "id": "FR4D03pyktNY",
        "outputId": "129f1853-5a80-4004-ea6c-c8292cba4234"
      },
      "execution_count": null,
      "outputs": [
        {
          "output_type": "execute_result",
          "data": {
            "text/plain": [
              "שם סדרה               1509\n",
              "פרמטר 16 למוצר        1509\n",
              "שם סרגל מידות         1491\n",
              "סרגל מידות            1491\n",
              "מידות טקסטיל          1424\n",
              "קניין                 1419\n",
              "פרמטר 9 למוצר         1324\n",
              "הרכב בד/חומר          1246\n",
              "GSM                   1227\n",
              "תת משפחה              1152\n",
              "קטגוריית על           1140\n",
              "תאור חדר              1134\n",
              "צבע טקסטיל            1123\n",
              "ספק מועדף             1081\n",
              "שם ספק                1081\n",
              "עונה                  1077\n",
              "מטבע                  1074\n",
              "תאריך מחיר אחרון      1074\n",
              "מקור מחיר אחרון       1074\n",
              "פרמטר‎‎‎ ‎4            995\n",
              "כמות באריזה            954\n",
              "דגם                    931\n",
              "תאריך יציאה אחרון      905\n",
              "תאריך כניסה אחרון      710\n",
              "תמונה                  695\n",
              "תאור לועזי             262\n",
              "תאור פריט מרכז         221\n",
              "פריט מרכז              221\n",
              "מטבע קניה              198\n",
              "צבעים                  186\n",
              "מידות                  181\n",
              "ברקוד                   35\n",
              "תנועה אחרונה במפעל      11\n",
              "dtype: int64"
            ]
          },
          "metadata": {},
          "execution_count": 22
        }
      ]
    },
    {
      "cell_type": "code",
      "source": [
        "filter_1 = (df_items.isnull().sum()/df_items.shape[0]).sort_values(ascending=False)\n",
        "filter_1[ filter_1 > 0  ] # percentage of NaNs value"
      ],
      "metadata": {
        "colab": {
          "base_uri": "https://localhost:8080/"
        },
        "id": "AdqyuAkxGozr",
        "outputId": "e14e885a-2ff0-4680-8c38-67f73ac4e699"
      },
      "execution_count": null,
      "outputs": [
        {
          "output_type": "execute_result",
          "data": {
            "text/plain": [
              "שם סדרה               0.955668\n",
              "פרמטר 16 למוצר        0.955668\n",
              "שם סרגל מידות         0.944269\n",
              "סרגל מידות            0.944269\n",
              "מידות טקסטיל          0.901837\n",
              "קניין                 0.898670\n",
              "פרמטר 9 למוצר         0.838505\n",
              "הרכב בד/חומר          0.789107\n",
              "GSM                   0.777074\n",
              "תת משפחה              0.729576\n",
              "קטגוריית על           0.721976\n",
              "תאור חדר              0.718176\n",
              "צבע טקסטיל            0.711210\n",
              "ספק מועדף             0.684611\n",
              "שם ספק                0.684611\n",
              "עונה                  0.682077\n",
              "מטבע                  0.680177\n",
              "תאריך מחיר אחרון      0.680177\n",
              "מקור מחיר אחרון       0.680177\n",
              "פרמטר‎‎‎ ‎4           0.630146\n",
              "כמות באריזה           0.604180\n",
              "דגם                   0.589614\n",
              "תאריך יציאה אחרון     0.573148\n",
              "תאריך כניסה אחרון     0.449652\n",
              "תמונה                 0.440152\n",
              "תאור לועזי            0.165928\n",
              "תאור פריט מרכז        0.139962\n",
              "פריט מרכז             0.139962\n",
              "מטבע קניה             0.125396\n",
              "צבעים                 0.117796\n",
              "מידות                 0.114630\n",
              "ברקוד                 0.022166\n",
              "תנועה אחרונה במפעל    0.006966\n",
              "dtype: float64"
            ]
          },
          "metadata": {},
          "execution_count": 23
        }
      ]
    },
    {
      "cell_type": "markdown",
      "source": [
        "In order to continue the process of cleaning the data, we met with the CTO and presented to him:\n",
        "\n",
        "\n",
        "*   Columns with missing values.\n",
        "*   Columns thaht had similar meaning.\n",
        "*   Columns that seemed irrelevant to the purpose of the project.\n",
        "\n",
        "After this meeting we decided to keep the following columns   👇"
      ],
      "metadata": {
        "id": "s5Ub9B9DvZRu"
      }
    },
    {
      "cell_type": "code",
      "source": [
        "df_items = pd.read_excel(\"/content/Nautica-Home-Project/Nautica Home - Items Catalog Clean.xlsx\")\n",
        "df_items"
      ],
      "metadata": {
        "id": "BjB8Q4NV3nZC",
        "colab": {
          "base_uri": "https://localhost:8080/",
          "height": 921
        },
        "outputId": "a4ce1be0-0353-42d9-f7e8-7cc71921c014"
      },
      "execution_count": null,
      "outputs": [
        {
          "output_type": "execute_result",
          "data": {
            "text/plain": [
              "       Catalog Number              Hebrew Description  \\\n",
              "0           231200200              צלחת עיקרית 27 ס\"מ   \n",
              "1     231200200-02-27              צלחת עיקרית 27 ס\"מ   \n",
              "2     231200200-19-27              צלחת עיקרית 27 ס\"מ   \n",
              "3           231200201              צלחת ראשונה 23 ס\"מ   \n",
              "4     231200201-02-20              צלחת ראשונה 23 ס\"מ   \n",
              "...               ...                             ...   \n",
              "1574          NLW8050  Mix&Match Large Logo men Shirt   \n",
              "1575          NLW8060            Mix&Match men Shorts   \n",
              "1576          NLW8070             Mix&Match men Pants   \n",
              "1577          NLW8080          NAUTICA HOME men PANTS   \n",
              "1578          NLW8090  Sunny day shirt&shorts men set   \n",
              "\n",
              "                     English Description Added Date Family Item ID  \\\n",
              "0     10.5' Shallow Plate - DINNER PLATE 2022-10-12          200.0   \n",
              "1     10.5' Shallow Plate - DINNER PLATE 2022-10-12          200.0   \n",
              "2     10.5' Shallow Plate - DINNER PLATE 2022-10-12            200   \n",
              "3         8' Shallow Plate - SALAD PLATE 2022-10-12            200   \n",
              "4         8' Shallow Plate - SALAD PLATE 2022-10-12            200   \n",
              "...                                  ...        ...            ...   \n",
              "1574      Mix&Match Large Logo men Shirt 2021-10-26           7000   \n",
              "1575                Mix&Match men Shorts 2021-10-26           7000   \n",
              "1576                 Mix&Match men Pants 2021-10-26           7000   \n",
              "1577              NAUTICA HOME men PANTS 2021-11-09           7000   \n",
              "1578      Sunny day shirt&shorts men set 2021-11-09           7000   \n",
              "\n",
              "     Family Item Name Central Item? Central Item ID  Supplier ID  \\\n",
              "0               צלחות             Y             NaN     200257.0   \n",
              "1               צלחות           NaN       231200200     200257.0   \n",
              "2               צלחות           NaN       231200200     200257.0   \n",
              "3               צלחות             Y             NaN     200257.0   \n",
              "4               צלחות           NaN       231200201     200257.0   \n",
              "...               ...           ...             ...          ...   \n",
              "1574       Loungewear             Y             NaN          NaN   \n",
              "1575       Loungewear             Y             NaN          NaN   \n",
              "1576       Loungewear             Y             NaN          NaN   \n",
              "1577       Loungewear             Y             NaN          NaN   \n",
              "1578       Loungewear             Y             NaN          NaN   \n",
              "\n",
              "                          Supplier Name  ...  Cost Import USD  \\\n",
              "0     Chaozhou Zacasa Ceramics Co.,Ltd.  ...              0.0   \n",
              "1     Chaozhou Zacasa Ceramics Co.,Ltd.  ...              0.0   \n",
              "2     Chaozhou Zacasa Ceramics Co.,Ltd.  ...              0.0   \n",
              "3     Chaozhou Zacasa Ceramics Co.,Ltd.  ...              0.0   \n",
              "4     Chaozhou Zacasa Ceramics Co.,Ltd.  ...              0.0   \n",
              "...                                 ...  ...              ...   \n",
              "1574                                NaN  ...              0.0   \n",
              "1575                                NaN  ...              0.0   \n",
              "1576                                NaN  ...              0.0   \n",
              "1577                                NaN  ...              0.0   \n",
              "1578                                NaN  ...              0.0   \n",
              "\n",
              "     Cost Production USD  Other Cost Production  \\\n",
              "0                   0.00                   0.00   \n",
              "1                   0.00                   2.84   \n",
              "2                   0.00                   2.84   \n",
              "3                   0.00                   0.00   \n",
              "4                   0.00                   1.69   \n",
              "...                  ...                    ...   \n",
              "1574                6.17                   6.20   \n",
              "1575                7.59                   7.63   \n",
              "1576                9.16                   9.20   \n",
              "1577               66.17                   8.88   \n",
              "1578                9.46                   9.51   \n",
              "\n",
              "      Currency Other Cost Production Colour ID   Colour  Size  \\\n",
              "0                                NaN       NaN      NaN   NaN   \n",
              "1                                USD         2    White    27   \n",
              "2                                USD        19  L. GRAY    27   \n",
              "3                                NaN       NaN      NaN   NaN   \n",
              "4                                USD         2    White    23   \n",
              "...                              ...       ...      ...   ...   \n",
              "1574                             USD       NaN      NaN   NaN   \n",
              "1575                             USD       NaN      NaN   NaN   \n",
              "1576                             USD       NaN      NaN   NaN   \n",
              "1577                             USD       NaN      NaN   NaN   \n",
              "1578                             USD       NaN      NaN   NaN   \n",
              "\n",
              "         Type Description  Quantity in Box   Composition  \n",
              "0                     NaN              NaN           NaN  \n",
              "1                     NaN              6.0     PORCELAIN  \n",
              "2                     NaN              6.0     PORCELAIN  \n",
              "3                     NaN              NaN           NaN  \n",
              "4                     NaN              6.0     PORCELAIN  \n",
              "...                   ...              ...           ...  \n",
              "1574              REFIBRA             28.0  47% Cotton 3  \n",
              "1575              REFIBRA            100.0  47% Cotton 3  \n",
              "1576              REFIBRA             30.0  47% Cotton 3  \n",
              "1577  REALASTING SOFTNESS             28.0   94% Modal 6  \n",
              "1578    REALASTING COTTON             28.0   100% Cotton  \n",
              "\n",
              "[1579 rows x 27 columns]"
            ],
            "text/html": [
              "\n",
              "  <div id=\"df-dbed327e-8a12-4677-8f48-db45ffef785b\">\n",
              "    <div class=\"colab-df-container\">\n",
              "      <div>\n",
              "<style scoped>\n",
              "    .dataframe tbody tr th:only-of-type {\n",
              "        vertical-align: middle;\n",
              "    }\n",
              "\n",
              "    .dataframe tbody tr th {\n",
              "        vertical-align: top;\n",
              "    }\n",
              "\n",
              "    .dataframe thead th {\n",
              "        text-align: right;\n",
              "    }\n",
              "</style>\n",
              "<table border=\"1\" class=\"dataframe\">\n",
              "  <thead>\n",
              "    <tr style=\"text-align: right;\">\n",
              "      <th></th>\n",
              "      <th>Catalog Number</th>\n",
              "      <th>Hebrew Description</th>\n",
              "      <th>English Description</th>\n",
              "      <th>Added Date</th>\n",
              "      <th>Family Item ID</th>\n",
              "      <th>Family Item Name</th>\n",
              "      <th>Central Item?</th>\n",
              "      <th>Central Item ID</th>\n",
              "      <th>Supplier ID</th>\n",
              "      <th>Supplier Name</th>\n",
              "      <th>...</th>\n",
              "      <th>Cost Import USD</th>\n",
              "      <th>Cost Production USD</th>\n",
              "      <th>Other Cost Production</th>\n",
              "      <th>Currency Other Cost Production</th>\n",
              "      <th>Colour ID</th>\n",
              "      <th>Colour</th>\n",
              "      <th>Size</th>\n",
              "      <th>Type Description</th>\n",
              "      <th>Quantity in Box</th>\n",
              "      <th>Composition</th>\n",
              "    </tr>\n",
              "  </thead>\n",
              "  <tbody>\n",
              "    <tr>\n",
              "      <th>0</th>\n",
              "      <td>231200200</td>\n",
              "      <td>צלחת עיקרית 27 ס\"מ</td>\n",
              "      <td>10.5' Shallow Plate - DINNER PLATE</td>\n",
              "      <td>2022-10-12</td>\n",
              "      <td>200.0</td>\n",
              "      <td>צלחות</td>\n",
              "      <td>Y</td>\n",
              "      <td>NaN</td>\n",
              "      <td>200257.0</td>\n",
              "      <td>Chaozhou Zacasa Ceramics Co.,Ltd.</td>\n",
              "      <td>...</td>\n",
              "      <td>0.0</td>\n",
              "      <td>0.00</td>\n",
              "      <td>0.00</td>\n",
              "      <td>NaN</td>\n",
              "      <td>NaN</td>\n",
              "      <td>NaN</td>\n",
              "      <td>NaN</td>\n",
              "      <td>NaN</td>\n",
              "      <td>NaN</td>\n",
              "      <td>NaN</td>\n",
              "    </tr>\n",
              "    <tr>\n",
              "      <th>1</th>\n",
              "      <td>231200200-02-27</td>\n",
              "      <td>צלחת עיקרית 27 ס\"מ</td>\n",
              "      <td>10.5' Shallow Plate - DINNER PLATE</td>\n",
              "      <td>2022-10-12</td>\n",
              "      <td>200.0</td>\n",
              "      <td>צלחות</td>\n",
              "      <td>NaN</td>\n",
              "      <td>231200200</td>\n",
              "      <td>200257.0</td>\n",
              "      <td>Chaozhou Zacasa Ceramics Co.,Ltd.</td>\n",
              "      <td>...</td>\n",
              "      <td>0.0</td>\n",
              "      <td>0.00</td>\n",
              "      <td>2.84</td>\n",
              "      <td>USD</td>\n",
              "      <td>2</td>\n",
              "      <td>White</td>\n",
              "      <td>27</td>\n",
              "      <td>NaN</td>\n",
              "      <td>6.0</td>\n",
              "      <td>PORCELAIN</td>\n",
              "    </tr>\n",
              "    <tr>\n",
              "      <th>2</th>\n",
              "      <td>231200200-19-27</td>\n",
              "      <td>צלחת עיקרית 27 ס\"מ</td>\n",
              "      <td>10.5' Shallow Plate - DINNER PLATE</td>\n",
              "      <td>2022-10-12</td>\n",
              "      <td>200</td>\n",
              "      <td>צלחות</td>\n",
              "      <td>NaN</td>\n",
              "      <td>231200200</td>\n",
              "      <td>200257.0</td>\n",
              "      <td>Chaozhou Zacasa Ceramics Co.,Ltd.</td>\n",
              "      <td>...</td>\n",
              "      <td>0.0</td>\n",
              "      <td>0.00</td>\n",
              "      <td>2.84</td>\n",
              "      <td>USD</td>\n",
              "      <td>19</td>\n",
              "      <td>L. GRAY</td>\n",
              "      <td>27</td>\n",
              "      <td>NaN</td>\n",
              "      <td>6.0</td>\n",
              "      <td>PORCELAIN</td>\n",
              "    </tr>\n",
              "    <tr>\n",
              "      <th>3</th>\n",
              "      <td>231200201</td>\n",
              "      <td>צלחת ראשונה 23 ס\"מ</td>\n",
              "      <td>8' Shallow Plate - SALAD PLATE</td>\n",
              "      <td>2022-10-12</td>\n",
              "      <td>200</td>\n",
              "      <td>צלחות</td>\n",
              "      <td>Y</td>\n",
              "      <td>NaN</td>\n",
              "      <td>200257.0</td>\n",
              "      <td>Chaozhou Zacasa Ceramics Co.,Ltd.</td>\n",
              "      <td>...</td>\n",
              "      <td>0.0</td>\n",
              "      <td>0.00</td>\n",
              "      <td>0.00</td>\n",
              "      <td>NaN</td>\n",
              "      <td>NaN</td>\n",
              "      <td>NaN</td>\n",
              "      <td>NaN</td>\n",
              "      <td>NaN</td>\n",
              "      <td>NaN</td>\n",
              "      <td>NaN</td>\n",
              "    </tr>\n",
              "    <tr>\n",
              "      <th>4</th>\n",
              "      <td>231200201-02-20</td>\n",
              "      <td>צלחת ראשונה 23 ס\"מ</td>\n",
              "      <td>8' Shallow Plate - SALAD PLATE</td>\n",
              "      <td>2022-10-12</td>\n",
              "      <td>200</td>\n",
              "      <td>צלחות</td>\n",
              "      <td>NaN</td>\n",
              "      <td>231200201</td>\n",
              "      <td>200257.0</td>\n",
              "      <td>Chaozhou Zacasa Ceramics Co.,Ltd.</td>\n",
              "      <td>...</td>\n",
              "      <td>0.0</td>\n",
              "      <td>0.00</td>\n",
              "      <td>1.69</td>\n",
              "      <td>USD</td>\n",
              "      <td>2</td>\n",
              "      <td>White</td>\n",
              "      <td>23</td>\n",
              "      <td>NaN</td>\n",
              "      <td>6.0</td>\n",
              "      <td>PORCELAIN</td>\n",
              "    </tr>\n",
              "    <tr>\n",
              "      <th>...</th>\n",
              "      <td>...</td>\n",
              "      <td>...</td>\n",
              "      <td>...</td>\n",
              "      <td>...</td>\n",
              "      <td>...</td>\n",
              "      <td>...</td>\n",
              "      <td>...</td>\n",
              "      <td>...</td>\n",
              "      <td>...</td>\n",
              "      <td>...</td>\n",
              "      <td>...</td>\n",
              "      <td>...</td>\n",
              "      <td>...</td>\n",
              "      <td>...</td>\n",
              "      <td>...</td>\n",
              "      <td>...</td>\n",
              "      <td>...</td>\n",
              "      <td>...</td>\n",
              "      <td>...</td>\n",
              "      <td>...</td>\n",
              "      <td>...</td>\n",
              "    </tr>\n",
              "    <tr>\n",
              "      <th>1574</th>\n",
              "      <td>NLW8050</td>\n",
              "      <td>Mix&amp;Match Large Logo men Shirt</td>\n",
              "      <td>Mix&amp;Match Large Logo men Shirt</td>\n",
              "      <td>2021-10-26</td>\n",
              "      <td>7000</td>\n",
              "      <td>Loungewear</td>\n",
              "      <td>Y</td>\n",
              "      <td>NaN</td>\n",
              "      <td>NaN</td>\n",
              "      <td>NaN</td>\n",
              "      <td>...</td>\n",
              "      <td>0.0</td>\n",
              "      <td>6.17</td>\n",
              "      <td>6.20</td>\n",
              "      <td>USD</td>\n",
              "      <td>NaN</td>\n",
              "      <td>NaN</td>\n",
              "      <td>NaN</td>\n",
              "      <td>REFIBRA</td>\n",
              "      <td>28.0</td>\n",
              "      <td>47% Cotton 3</td>\n",
              "    </tr>\n",
              "    <tr>\n",
              "      <th>1575</th>\n",
              "      <td>NLW8060</td>\n",
              "      <td>Mix&amp;Match men Shorts</td>\n",
              "      <td>Mix&amp;Match men Shorts</td>\n",
              "      <td>2021-10-26</td>\n",
              "      <td>7000</td>\n",
              "      <td>Loungewear</td>\n",
              "      <td>Y</td>\n",
              "      <td>NaN</td>\n",
              "      <td>NaN</td>\n",
              "      <td>NaN</td>\n",
              "      <td>...</td>\n",
              "      <td>0.0</td>\n",
              "      <td>7.59</td>\n",
              "      <td>7.63</td>\n",
              "      <td>USD</td>\n",
              "      <td>NaN</td>\n",
              "      <td>NaN</td>\n",
              "      <td>NaN</td>\n",
              "      <td>REFIBRA</td>\n",
              "      <td>100.0</td>\n",
              "      <td>47% Cotton 3</td>\n",
              "    </tr>\n",
              "    <tr>\n",
              "      <th>1576</th>\n",
              "      <td>NLW8070</td>\n",
              "      <td>Mix&amp;Match men Pants</td>\n",
              "      <td>Mix&amp;Match men Pants</td>\n",
              "      <td>2021-10-26</td>\n",
              "      <td>7000</td>\n",
              "      <td>Loungewear</td>\n",
              "      <td>Y</td>\n",
              "      <td>NaN</td>\n",
              "      <td>NaN</td>\n",
              "      <td>NaN</td>\n",
              "      <td>...</td>\n",
              "      <td>0.0</td>\n",
              "      <td>9.16</td>\n",
              "      <td>9.20</td>\n",
              "      <td>USD</td>\n",
              "      <td>NaN</td>\n",
              "      <td>NaN</td>\n",
              "      <td>NaN</td>\n",
              "      <td>REFIBRA</td>\n",
              "      <td>30.0</td>\n",
              "      <td>47% Cotton 3</td>\n",
              "    </tr>\n",
              "    <tr>\n",
              "      <th>1577</th>\n",
              "      <td>NLW8080</td>\n",
              "      <td>NAUTICA HOME men PANTS</td>\n",
              "      <td>NAUTICA HOME men PANTS</td>\n",
              "      <td>2021-11-09</td>\n",
              "      <td>7000</td>\n",
              "      <td>Loungewear</td>\n",
              "      <td>Y</td>\n",
              "      <td>NaN</td>\n",
              "      <td>NaN</td>\n",
              "      <td>NaN</td>\n",
              "      <td>...</td>\n",
              "      <td>0.0</td>\n",
              "      <td>66.17</td>\n",
              "      <td>8.88</td>\n",
              "      <td>USD</td>\n",
              "      <td>NaN</td>\n",
              "      <td>NaN</td>\n",
              "      <td>NaN</td>\n",
              "      <td>REALASTING SOFTNESS</td>\n",
              "      <td>28.0</td>\n",
              "      <td>94% Modal 6</td>\n",
              "    </tr>\n",
              "    <tr>\n",
              "      <th>1578</th>\n",
              "      <td>NLW8090</td>\n",
              "      <td>Sunny day shirt&amp;shorts men set</td>\n",
              "      <td>Sunny day shirt&amp;shorts men set</td>\n",
              "      <td>2021-11-09</td>\n",
              "      <td>7000</td>\n",
              "      <td>Loungewear</td>\n",
              "      <td>Y</td>\n",
              "      <td>NaN</td>\n",
              "      <td>NaN</td>\n",
              "      <td>NaN</td>\n",
              "      <td>...</td>\n",
              "      <td>0.0</td>\n",
              "      <td>9.46</td>\n",
              "      <td>9.51</td>\n",
              "      <td>USD</td>\n",
              "      <td>NaN</td>\n",
              "      <td>NaN</td>\n",
              "      <td>NaN</td>\n",
              "      <td>REALASTING COTTON</td>\n",
              "      <td>28.0</td>\n",
              "      <td>100% Cotton</td>\n",
              "    </tr>\n",
              "  </tbody>\n",
              "</table>\n",
              "<p>1579 rows × 27 columns</p>\n",
              "</div>\n",
              "      <button class=\"colab-df-convert\" onclick=\"convertToInteractive('df-dbed327e-8a12-4677-8f48-db45ffef785b')\"\n",
              "              title=\"Convert this dataframe to an interactive table.\"\n",
              "              style=\"display:none;\">\n",
              "        \n",
              "  <svg xmlns=\"http://www.w3.org/2000/svg\" height=\"24px\"viewBox=\"0 0 24 24\"\n",
              "       width=\"24px\">\n",
              "    <path d=\"M0 0h24v24H0V0z\" fill=\"none\"/>\n",
              "    <path d=\"M18.56 5.44l.94 2.06.94-2.06 2.06-.94-2.06-.94-.94-2.06-.94 2.06-2.06.94zm-11 1L8.5 8.5l.94-2.06 2.06-.94-2.06-.94L8.5 2.5l-.94 2.06-2.06.94zm10 10l.94 2.06.94-2.06 2.06-.94-2.06-.94-.94-2.06-.94 2.06-2.06.94z\"/><path d=\"M17.41 7.96l-1.37-1.37c-.4-.4-.92-.59-1.43-.59-.52 0-1.04.2-1.43.59L10.3 9.45l-7.72 7.72c-.78.78-.78 2.05 0 2.83L4 21.41c.39.39.9.59 1.41.59.51 0 1.02-.2 1.41-.59l7.78-7.78 2.81-2.81c.8-.78.8-2.07 0-2.86zM5.41 20L4 18.59l7.72-7.72 1.47 1.35L5.41 20z\"/>\n",
              "  </svg>\n",
              "      </button>\n",
              "      \n",
              "  <style>\n",
              "    .colab-df-container {\n",
              "      display:flex;\n",
              "      flex-wrap:wrap;\n",
              "      gap: 12px;\n",
              "    }\n",
              "\n",
              "    .colab-df-convert {\n",
              "      background-color: #E8F0FE;\n",
              "      border: none;\n",
              "      border-radius: 50%;\n",
              "      cursor: pointer;\n",
              "      display: none;\n",
              "      fill: #1967D2;\n",
              "      height: 32px;\n",
              "      padding: 0 0 0 0;\n",
              "      width: 32px;\n",
              "    }\n",
              "\n",
              "    .colab-df-convert:hover {\n",
              "      background-color: #E2EBFA;\n",
              "      box-shadow: 0px 1px 2px rgba(60, 64, 67, 0.3), 0px 1px 3px 1px rgba(60, 64, 67, 0.15);\n",
              "      fill: #174EA6;\n",
              "    }\n",
              "\n",
              "    [theme=dark] .colab-df-convert {\n",
              "      background-color: #3B4455;\n",
              "      fill: #D2E3FC;\n",
              "    }\n",
              "\n",
              "    [theme=dark] .colab-df-convert:hover {\n",
              "      background-color: #434B5C;\n",
              "      box-shadow: 0px 1px 3px 1px rgba(0, 0, 0, 0.15);\n",
              "      filter: drop-shadow(0px 1px 2px rgba(0, 0, 0, 0.3));\n",
              "      fill: #FFFFFF;\n",
              "    }\n",
              "  </style>\n",
              "\n",
              "      <script>\n",
              "        const buttonEl =\n",
              "          document.querySelector('#df-dbed327e-8a12-4677-8f48-db45ffef785b button.colab-df-convert');\n",
              "        buttonEl.style.display =\n",
              "          google.colab.kernel.accessAllowed ? 'block' : 'none';\n",
              "\n",
              "        async function convertToInteractive(key) {\n",
              "          const element = document.querySelector('#df-dbed327e-8a12-4677-8f48-db45ffef785b');\n",
              "          const dataTable =\n",
              "            await google.colab.kernel.invokeFunction('convertToInteractive',\n",
              "                                                     [key], {});\n",
              "          if (!dataTable) return;\n",
              "\n",
              "          const docLinkHtml = 'Like what you see? Visit the ' +\n",
              "            '<a target=\"_blank\" href=https://colab.research.google.com/notebooks/data_table.ipynb>data table notebook</a>'\n",
              "            + ' to learn more about interactive tables.';\n",
              "          element.innerHTML = '';\n",
              "          dataTable['output_type'] = 'display_data';\n",
              "          await google.colab.output.renderOutput(dataTable, element);\n",
              "          const docLink = document.createElement('div');\n",
              "          docLink.innerHTML = docLinkHtml;\n",
              "          element.appendChild(docLink);\n",
              "        }\n",
              "      </script>\n",
              "    </div>\n",
              "  </div>\n",
              "  "
            ]
          },
          "metadata": {},
          "execution_count": 38
        }
      ]
    },
    {
      "cell_type": "code",
      "source": [
        "filter"
      ],
      "metadata": {
        "colab": {
          "base_uri": "https://localhost:8080/"
        },
        "id": "OkLTwhScqnuk",
        "outputId": "23a57eaf-f4c3-4b26-a44d-268fc96153d8"
      },
      "execution_count": null,
      "outputs": [
        {
          "output_type": "execute_result",
          "data": {
            "text/plain": [
              "Central Item?                     1402\n",
              "Composition                       1246\n",
              "Colour                            1123\n",
              "Supplier Name                     1081\n",
              "Supplier ID                       1081\n",
              "Currency Cost Price               1074\n",
              "Type Description                   995\n",
              "Quantity in Box                    954\n",
              "English Description                262\n",
              "Central Item ID                    221\n",
              "Currency Other Cost Production     198\n",
              "Colour ID                          186\n",
              "Size                               181\n",
              "Currency Sales                     141\n",
              "Cost Import USD                      0\n",
              "Other Cost Production                0\n",
              "Cost Production USD                  0\n",
              "Catalog Number                       0\n",
              "Cost Production SH                   0\n",
              "Cost Import SH                       0\n",
              "Hebrew Description                   0\n",
              "Sales Price With TVA                 0\n",
              "Sales Price No TVA                   0\n",
              "Family Item Name                     0\n",
              "Family Item ID                       0\n",
              "Added Date                           0\n",
              "Cost Price                           0\n",
              "dtype: int64"
            ]
          },
          "metadata": {},
          "execution_count": 51
        }
      ]
    },
    {
      "cell_type": "code",
      "source": [
        "#df_items['Central Item?'!= 'Y'].isnull().sum().sort_values(ascending=False)\n",
        "df_items[df_items['Central Item?'].isin(['Y'])].isnull().sum().sort_values(ascending=False)"
      ],
      "metadata": {
        "id": "GQ_AIG9d_nN3",
        "colab": {
          "base_uri": "https://localhost:8080/"
        },
        "outputId": "4878fd1c-b859-4c72-e666-e71be822a4a9"
      },
      "execution_count": null,
      "outputs": [
        {
          "output_type": "execute_result",
          "data": {
            "text/plain": [
              "Currency Cost Price               177\n",
              "Colour                            176\n",
              "Central Item ID                   176\n",
              "Colour ID                         175\n",
              "Size                              174\n",
              "Quantity in Box                   161\n",
              "Composition                       160\n",
              "Type Description                  143\n",
              "Currency Other Cost Production    132\n",
              "Supplier ID                       124\n",
              "Supplier Name                     124\n",
              "English Description               104\n",
              "Currency Sales                     71\n",
              "Cost Import USD                     0\n",
              "Other Cost Production               0\n",
              "Cost Production USD                 0\n",
              "Catalog Number                      0\n",
              "Cost Production SH                  0\n",
              "Cost Import SH                      0\n",
              "Hebrew Description                  0\n",
              "Sales Price With TVA                0\n",
              "Sales Price No TVA                  0\n",
              "Central Item?                       0\n",
              "Family Item Name                    0\n",
              "Family Item ID                      0\n",
              "Added Date                          0\n",
              "Cost Price                          0\n",
              "dtype: int64"
            ]
          },
          "metadata": {},
          "execution_count": 53
        }
      ]
    },
    {
      "cell_type": "code",
      "source": [
        "df_items[~df_items['Central Item?'].isin(['Y'])].isnull().sum().sort_values(ascending=False)"
      ],
      "metadata": {
        "colab": {
          "base_uri": "https://localhost:8080/"
        },
        "id": "H-u1bry4qbcj",
        "outputId": "21204299-fdab-4b55-bf7c-c7be3054ec61"
      },
      "execution_count": null,
      "outputs": [
        {
          "output_type": "execute_result",
          "data": {
            "text/plain": [
              "Central Item?                     1402\n",
              "Composition                       1086\n",
              "Supplier Name                      957\n",
              "Supplier ID                        957\n",
              "Colour                             947\n",
              "Currency Cost Price                897\n",
              "Type Description                   852\n",
              "Quantity in Box                    793\n",
              "English Description                158\n",
              "Currency Sales                      70\n",
              "Currency Other Cost Production      66\n",
              "Central Item ID                     45\n",
              "Colour ID                           11\n",
              "Size                                 7\n",
              "Cost Import USD                      0\n",
              "Other Cost Production                0\n",
              "Cost Production USD                  0\n",
              "Catalog Number                       0\n",
              "Cost Production SH                   0\n",
              "Cost Import SH                       0\n",
              "Hebrew Description                   0\n",
              "Sales Price With TVA                 0\n",
              "Sales Price No TVA                   0\n",
              "Family Item Name                     0\n",
              "Family Item ID                       0\n",
              "Added Date                           0\n",
              "Cost Price                           0\n",
              "dtype: int64"
            ]
          },
          "metadata": {},
          "execution_count": 52
        }
      ]
    },
    {
      "cell_type": "markdown",
      "source": [
        "This Dataframe has now 1579 rows over 27 columns\n"
      ],
      "metadata": {
        "id": "swXcLWgpAGuI"
      }
    },
    {
      "cell_type": "markdown",
      "source": [
        "# Second Table - 'Orders'"
      ],
      "metadata": {
        "id": "KL-fogsnjDFs"
      }
    },
    {
      "cell_type": "markdown",
      "source": [
        "## 1. Loading the Table"
      ],
      "metadata": {
        "id": "Gr_2uAFZjDF0"
      }
    },
    {
      "cell_type": "code",
      "source": [
        "df_orders = pd.read_excel(\"/content/Nautica-Home-Project/Orders.xlsx\")"
      ],
      "metadata": {
        "id": "uwDmy7DdjDF1"
      },
      "execution_count": null,
      "outputs": []
    },
    {
      "cell_type": "code",
      "source": [
        "print(f\"This Dataframe has {df_orders.shape[0]} rows over {df_orders.shape[1]} columns\")"
      ],
      "metadata": {
        "colab": {
          "base_uri": "https://localhost:8080/"
        },
        "outputId": "466a2cbc-7a8d-4004-e569-24452e857c00",
        "id": "628wkcD1jDF2"
      },
      "execution_count": null,
      "outputs": [
        {
          "output_type": "stream",
          "name": "stdout",
          "text": [
            "This Dataframe has 7412 rows over 6 columns\n"
          ]
        }
      ]
    },
    {
      "cell_type": "code",
      "source": [
        "df_orders.head()"
      ],
      "metadata": {
        "colab": {
          "base_uri": "https://localhost:8080/"
        },
        "outputId": "a13bed84-58f8-470b-8efd-02e05930b2ea",
        "id": "hEAa8oDtjDF2"
      },
      "execution_count": null,
      "outputs": [
        {
          "output_type": "execute_result",
          "data": {
            "text/plain": [
              "  Order_Date  Customer_ID           City    Order_ID Catalog_Number  Quantity\n",
              "0 2022-03-28       100073  תל אביב - יפו  SO22000056            100         1\n",
              "1 2022-03-28       100073  תל אביב - יפו  SO22000056   NHT3004-9-16         1\n",
              "2 2022-03-28       100073  תל אביב - יפו  SO22000056  NHT3007-15-11         1\n",
              "3 2022-04-03       100111         הרצליה  SO22000099            100         1\n",
              "4 2022-04-03       100111         הרצליה  SO22000099   NHB5080-16-3         1"
            ],
            "text/html": [
              "\n",
              "  <div id=\"df-cccf6bd3-2a10-41ca-8029-cb6a319023c3\">\n",
              "    <div class=\"colab-df-container\">\n",
              "      <div>\n",
              "<style scoped>\n",
              "    .dataframe tbody tr th:only-of-type {\n",
              "        vertical-align: middle;\n",
              "    }\n",
              "\n",
              "    .dataframe tbody tr th {\n",
              "        vertical-align: top;\n",
              "    }\n",
              "\n",
              "    .dataframe thead th {\n",
              "        text-align: right;\n",
              "    }\n",
              "</style>\n",
              "<table border=\"1\" class=\"dataframe\">\n",
              "  <thead>\n",
              "    <tr style=\"text-align: right;\">\n",
              "      <th></th>\n",
              "      <th>Order_Date</th>\n",
              "      <th>Customer_ID</th>\n",
              "      <th>City</th>\n",
              "      <th>Order_ID</th>\n",
              "      <th>Catalog_Number</th>\n",
              "      <th>Quantity</th>\n",
              "    </tr>\n",
              "  </thead>\n",
              "  <tbody>\n",
              "    <tr>\n",
              "      <th>0</th>\n",
              "      <td>2022-03-28</td>\n",
              "      <td>100073</td>\n",
              "      <td>תל אביב - יפו</td>\n",
              "      <td>SO22000056</td>\n",
              "      <td>100</td>\n",
              "      <td>1</td>\n",
              "    </tr>\n",
              "    <tr>\n",
              "      <th>1</th>\n",
              "      <td>2022-03-28</td>\n",
              "      <td>100073</td>\n",
              "      <td>תל אביב - יפו</td>\n",
              "      <td>SO22000056</td>\n",
              "      <td>NHT3004-9-16</td>\n",
              "      <td>1</td>\n",
              "    </tr>\n",
              "    <tr>\n",
              "      <th>2</th>\n",
              "      <td>2022-03-28</td>\n",
              "      <td>100073</td>\n",
              "      <td>תל אביב - יפו</td>\n",
              "      <td>SO22000056</td>\n",
              "      <td>NHT3007-15-11</td>\n",
              "      <td>1</td>\n",
              "    </tr>\n",
              "    <tr>\n",
              "      <th>3</th>\n",
              "      <td>2022-04-03</td>\n",
              "      <td>100111</td>\n",
              "      <td>הרצליה</td>\n",
              "      <td>SO22000099</td>\n",
              "      <td>100</td>\n",
              "      <td>1</td>\n",
              "    </tr>\n",
              "    <tr>\n",
              "      <th>4</th>\n",
              "      <td>2022-04-03</td>\n",
              "      <td>100111</td>\n",
              "      <td>הרצליה</td>\n",
              "      <td>SO22000099</td>\n",
              "      <td>NHB5080-16-3</td>\n",
              "      <td>1</td>\n",
              "    </tr>\n",
              "  </tbody>\n",
              "</table>\n",
              "</div>\n",
              "      <button class=\"colab-df-convert\" onclick=\"convertToInteractive('df-cccf6bd3-2a10-41ca-8029-cb6a319023c3')\"\n",
              "              title=\"Convert this dataframe to an interactive table.\"\n",
              "              style=\"display:none;\">\n",
              "        \n",
              "  <svg xmlns=\"http://www.w3.org/2000/svg\" height=\"24px\"viewBox=\"0 0 24 24\"\n",
              "       width=\"24px\">\n",
              "    <path d=\"M0 0h24v24H0V0z\" fill=\"none\"/>\n",
              "    <path d=\"M18.56 5.44l.94 2.06.94-2.06 2.06-.94-2.06-.94-.94-2.06-.94 2.06-2.06.94zm-11 1L8.5 8.5l.94-2.06 2.06-.94-2.06-.94L8.5 2.5l-.94 2.06-2.06.94zm10 10l.94 2.06.94-2.06 2.06-.94-2.06-.94-.94-2.06-.94 2.06-2.06.94z\"/><path d=\"M17.41 7.96l-1.37-1.37c-.4-.4-.92-.59-1.43-.59-.52 0-1.04.2-1.43.59L10.3 9.45l-7.72 7.72c-.78.78-.78 2.05 0 2.83L4 21.41c.39.39.9.59 1.41.59.51 0 1.02-.2 1.41-.59l7.78-7.78 2.81-2.81c.8-.78.8-2.07 0-2.86zM5.41 20L4 18.59l7.72-7.72 1.47 1.35L5.41 20z\"/>\n",
              "  </svg>\n",
              "      </button>\n",
              "      \n",
              "  <style>\n",
              "    .colab-df-container {\n",
              "      display:flex;\n",
              "      flex-wrap:wrap;\n",
              "      gap: 12px;\n",
              "    }\n",
              "\n",
              "    .colab-df-convert {\n",
              "      background-color: #E8F0FE;\n",
              "      border: none;\n",
              "      border-radius: 50%;\n",
              "      cursor: pointer;\n",
              "      display: none;\n",
              "      fill: #1967D2;\n",
              "      height: 32px;\n",
              "      padding: 0 0 0 0;\n",
              "      width: 32px;\n",
              "    }\n",
              "\n",
              "    .colab-df-convert:hover {\n",
              "      background-color: #E2EBFA;\n",
              "      box-shadow: 0px 1px 2px rgba(60, 64, 67, 0.3), 0px 1px 3px 1px rgba(60, 64, 67, 0.15);\n",
              "      fill: #174EA6;\n",
              "    }\n",
              "\n",
              "    [theme=dark] .colab-df-convert {\n",
              "      background-color: #3B4455;\n",
              "      fill: #D2E3FC;\n",
              "    }\n",
              "\n",
              "    [theme=dark] .colab-df-convert:hover {\n",
              "      background-color: #434B5C;\n",
              "      box-shadow: 0px 1px 3px 1px rgba(0, 0, 0, 0.15);\n",
              "      filter: drop-shadow(0px 1px 2px rgba(0, 0, 0, 0.3));\n",
              "      fill: #FFFFFF;\n",
              "    }\n",
              "  </style>\n",
              "\n",
              "      <script>\n",
              "        const buttonEl =\n",
              "          document.querySelector('#df-cccf6bd3-2a10-41ca-8029-cb6a319023c3 button.colab-df-convert');\n",
              "        buttonEl.style.display =\n",
              "          google.colab.kernel.accessAllowed ? 'block' : 'none';\n",
              "\n",
              "        async function convertToInteractive(key) {\n",
              "          const element = document.querySelector('#df-cccf6bd3-2a10-41ca-8029-cb6a319023c3');\n",
              "          const dataTable =\n",
              "            await google.colab.kernel.invokeFunction('convertToInteractive',\n",
              "                                                     [key], {});\n",
              "          if (!dataTable) return;\n",
              "\n",
              "          const docLinkHtml = 'Like what you see? Visit the ' +\n",
              "            '<a target=\"_blank\" href=https://colab.research.google.com/notebooks/data_table.ipynb>data table notebook</a>'\n",
              "            + ' to learn more about interactive tables.';\n",
              "          element.innerHTML = '';\n",
              "          dataTable['output_type'] = 'display_data';\n",
              "          await google.colab.output.renderOutput(dataTable, element);\n",
              "          const docLink = document.createElement('div');\n",
              "          docLink.innerHTML = docLinkHtml;\n",
              "          element.appendChild(docLink);\n",
              "        }\n",
              "      </script>\n",
              "    </div>\n",
              "  </div>\n",
              "  "
            ]
          },
          "metadata": {},
          "execution_count": 28
        }
      ]
    },
    {
      "cell_type": "markdown",
      "source": [
        "## 2. Cleanup the Table"
      ],
      "metadata": {
        "id": "A8rExyv1jDF3"
      }
    },
    {
      "cell_type": "markdown",
      "source": [
        "### 2.1 Empty columns and rows"
      ],
      "metadata": {
        "id": "4ACXXxfQjDF3"
      }
    },
    {
      "cell_type": "code",
      "source": [
        "df_orders.isnull().sum()"
      ],
      "metadata": {
        "colab": {
          "base_uri": "https://localhost:8080/"
        },
        "outputId": "9f355929-1272-4a02-894e-777aa504c82c",
        "id": "FLZmU4WzjDF3"
      },
      "execution_count": null,
      "outputs": [
        {
          "output_type": "execute_result",
          "data": {
            "text/plain": [
              "Order_Date        0\n",
              "Customer_ID       0\n",
              "City              3\n",
              "Order_ID          0\n",
              "Catalog_Number    0\n",
              "Quantity          0\n",
              "dtype: int64"
            ]
          },
          "metadata": {},
          "execution_count": 29
        }
      ]
    },
    {
      "cell_type": "markdown",
      "source": [
        "Note : This dataset doesn't contain completely NaN columns or rows.☝"
      ],
      "metadata": {
        "id": "qG9lBn2ojDF4"
      }
    },
    {
      "cell_type": "markdown",
      "source": [
        "### 2.2 Columns with single value"
      ],
      "metadata": {
        "id": "mMRH6zsdjDF6"
      }
    },
    {
      "cell_type": "code",
      "source": [
        "single_value_col = df_orders.columns[df_orders.nunique() <=1]\n",
        "single_value_col"
      ],
      "metadata": {
        "colab": {
          "base_uri": "https://localhost:8080/"
        },
        "outputId": "fdbe5376-05e9-4380-82df-75d42d33de25",
        "id": "vOlP4e33jDF6"
      },
      "execution_count": null,
      "outputs": [
        {
          "output_type": "execute_result",
          "data": {
            "text/plain": [
              "Index([], dtype='object')"
            ]
          },
          "metadata": {},
          "execution_count": 30
        }
      ]
    },
    {
      "cell_type": "markdown",
      "source": [
        "Note : The dataset doesn't contain columns with single value"
      ],
      "metadata": {
        "id": "4xC3yD1IjDF6"
      }
    },
    {
      "cell_type": "markdown",
      "source": [
        "### 2.3 Duplicate Rows"
      ],
      "metadata": {
        "id": "23GCfNYVkPE9"
      }
    },
    {
      "cell_type": "code",
      "source": [
        "duplicate_rows = df_orders[df_orders.duplicated()].shape[0]\n",
        "print(f\"This Dataframe has {duplicate_rows} duplicate rows \")"
      ],
      "metadata": {
        "colab": {
          "base_uri": "https://localhost:8080/"
        },
        "id": "baOyiUmbkPFF",
        "outputId": "a0f6b683-f772-4b88-fdfc-7c3ceaf76de2"
      },
      "execution_count": null,
      "outputs": [
        {
          "output_type": "stream",
          "name": "stdout",
          "text": [
            "This Dataframe has 0 duplicate rows \n"
          ]
        }
      ]
    },
    {
      "cell_type": "markdown",
      "source": [
        "### 2.4 Drop unnecessary columns and rows"
      ],
      "metadata": {
        "id": "hD7u0rlfjDF7"
      }
    },
    {
      "cell_type": "code",
      "source": [
        "filter = df_orders.isnull().sum().sort_values(ascending=False)\n",
        "filter[ filter > 0 ]"
      ],
      "metadata": {
        "colab": {
          "base_uri": "https://localhost:8080/"
        },
        "outputId": "d7bcce9a-bea6-4626-9555-cf2d7965a59c",
        "id": "lm1d3c5xjDF7"
      },
      "execution_count": null,
      "outputs": [
        {
          "output_type": "execute_result",
          "data": {
            "text/plain": [
              "City    3\n",
              "dtype: int64"
            ]
          },
          "metadata": {},
          "execution_count": 31
        }
      ]
    },
    {
      "cell_type": "code",
      "source": [
        "filter_1 = (df_orders.isnull().sum()/df_orders.shape[0]).sort_values(ascending=False)\n",
        "filter_1[ filter_1 > 0  ] # percentage of NaNs value"
      ],
      "metadata": {
        "colab": {
          "base_uri": "https://localhost:8080/"
        },
        "outputId": "a6f99fc4-e8d3-4627-fa50-d5f9f9b5bb0e",
        "id": "l2arjmIhjDF7"
      },
      "execution_count": null,
      "outputs": [
        {
          "output_type": "execute_result",
          "data": {
            "text/plain": [
              "City    0.000405\n",
              "dtype: float64"
            ]
          },
          "metadata": {},
          "execution_count": 32
        }
      ]
    },
    {
      "cell_type": "markdown",
      "source": [
        "In order to continue the process of cleaning the data, we met with the CTO and presented to him:\n",
        "\n",
        "\n",
        "*   Columns with missing values.\n",
        "*   Columns with values thaht do not make sense.\n",
        "\n",
        "After this meeting we decided to :\n",
        "*   Remove the rows where `Catalog_Number` is equal to `100`.\n",
        "*   Remove the rows where `Catalog_Number` is equal to `200`.\n",
        "\n",
        "So we get the following data  👇"
      ],
      "metadata": {
        "id": "eIQFLju0jDF7"
      }
    },
    {
      "cell_type": "code",
      "source": [
        "remove = df_orders['Catalog_Number'].isin([100,200])\n",
        "df_orders = df_orders[~remove]\n",
        "df_orders"
      ],
      "metadata": {
        "colab": {
          "base_uri": "https://localhost:8080/",
          "height": 423
        },
        "id": "LiEsaT9z4FT3",
        "outputId": "24088507-88d2-4402-a840-c7c028cc1204"
      },
      "execution_count": null,
      "outputs": [
        {
          "output_type": "execute_result",
          "data": {
            "text/plain": [
              "     Order_Date  Customer_ID           City    Order_ID Catalog_Number  \\\n",
              "1    2022-03-28       100073  תל אביב - יפו  SO22000056   NHT3004-9-16   \n",
              "2    2022-03-28       100073  תל אביב - יפו  SO22000056  NHT3007-15-11   \n",
              "4    2022-04-03       100111         הרצליה  SO22000099   NHB5080-16-3   \n",
              "5    2022-04-03       100111         הרצליה  SO22000099  NHB5195-16-25   \n",
              "6    2022-04-03       100111         הרצליה  SO22000099   NHB5340-16-3   \n",
              "...         ...          ...            ...         ...            ...   \n",
              "7404 2023-01-24       102184         הרצליה  SO23000265  NBRK403-10-40   \n",
              "7406 2023-01-24       102185          רעננה  SO23000266     NLW-7070M3   \n",
              "7408 2023-01-24       102186      פתח תקווה  SO23000267   NLW-71002XS6   \n",
              "7409 2023-01-24       102186      פתח תקווה  SO23000267    NLW-71003S6   \n",
              "7411 2023-01-24       102187      עין הבשור  SO23000268  NHB5300-16-11   \n",
              "\n",
              "      Quantity  \n",
              "1            1  \n",
              "2            1  \n",
              "4            1  \n",
              "5            1  \n",
              "6            1  \n",
              "...        ...  \n",
              "7404         2  \n",
              "7406         1  \n",
              "7408         1  \n",
              "7409         1  \n",
              "7411         1  \n",
              "\n",
              "[5265 rows x 6 columns]"
            ],
            "text/html": [
              "\n",
              "  <div id=\"df-d6c76611-e13f-4334-9895-72b025d6c918\">\n",
              "    <div class=\"colab-df-container\">\n",
              "      <div>\n",
              "<style scoped>\n",
              "    .dataframe tbody tr th:only-of-type {\n",
              "        vertical-align: middle;\n",
              "    }\n",
              "\n",
              "    .dataframe tbody tr th {\n",
              "        vertical-align: top;\n",
              "    }\n",
              "\n",
              "    .dataframe thead th {\n",
              "        text-align: right;\n",
              "    }\n",
              "</style>\n",
              "<table border=\"1\" class=\"dataframe\">\n",
              "  <thead>\n",
              "    <tr style=\"text-align: right;\">\n",
              "      <th></th>\n",
              "      <th>Order_Date</th>\n",
              "      <th>Customer_ID</th>\n",
              "      <th>City</th>\n",
              "      <th>Order_ID</th>\n",
              "      <th>Catalog_Number</th>\n",
              "      <th>Quantity</th>\n",
              "    </tr>\n",
              "  </thead>\n",
              "  <tbody>\n",
              "    <tr>\n",
              "      <th>1</th>\n",
              "      <td>2022-03-28</td>\n",
              "      <td>100073</td>\n",
              "      <td>תל אביב - יפו</td>\n",
              "      <td>SO22000056</td>\n",
              "      <td>NHT3004-9-16</td>\n",
              "      <td>1</td>\n",
              "    </tr>\n",
              "    <tr>\n",
              "      <th>2</th>\n",
              "      <td>2022-03-28</td>\n",
              "      <td>100073</td>\n",
              "      <td>תל אביב - יפו</td>\n",
              "      <td>SO22000056</td>\n",
              "      <td>NHT3007-15-11</td>\n",
              "      <td>1</td>\n",
              "    </tr>\n",
              "    <tr>\n",
              "      <th>4</th>\n",
              "      <td>2022-04-03</td>\n",
              "      <td>100111</td>\n",
              "      <td>הרצליה</td>\n",
              "      <td>SO22000099</td>\n",
              "      <td>NHB5080-16-3</td>\n",
              "      <td>1</td>\n",
              "    </tr>\n",
              "    <tr>\n",
              "      <th>5</th>\n",
              "      <td>2022-04-03</td>\n",
              "      <td>100111</td>\n",
              "      <td>הרצליה</td>\n",
              "      <td>SO22000099</td>\n",
              "      <td>NHB5195-16-25</td>\n",
              "      <td>1</td>\n",
              "    </tr>\n",
              "    <tr>\n",
              "      <th>6</th>\n",
              "      <td>2022-04-03</td>\n",
              "      <td>100111</td>\n",
              "      <td>הרצליה</td>\n",
              "      <td>SO22000099</td>\n",
              "      <td>NHB5340-16-3</td>\n",
              "      <td>1</td>\n",
              "    </tr>\n",
              "    <tr>\n",
              "      <th>...</th>\n",
              "      <td>...</td>\n",
              "      <td>...</td>\n",
              "      <td>...</td>\n",
              "      <td>...</td>\n",
              "      <td>...</td>\n",
              "      <td>...</td>\n",
              "    </tr>\n",
              "    <tr>\n",
              "      <th>7404</th>\n",
              "      <td>2023-01-24</td>\n",
              "      <td>102184</td>\n",
              "      <td>הרצליה</td>\n",
              "      <td>SO23000265</td>\n",
              "      <td>NBRK403-10-40</td>\n",
              "      <td>2</td>\n",
              "    </tr>\n",
              "    <tr>\n",
              "      <th>7406</th>\n",
              "      <td>2023-01-24</td>\n",
              "      <td>102185</td>\n",
              "      <td>רעננה</td>\n",
              "      <td>SO23000266</td>\n",
              "      <td>NLW-7070M3</td>\n",
              "      <td>1</td>\n",
              "    </tr>\n",
              "    <tr>\n",
              "      <th>7408</th>\n",
              "      <td>2023-01-24</td>\n",
              "      <td>102186</td>\n",
              "      <td>פתח תקווה</td>\n",
              "      <td>SO23000267</td>\n",
              "      <td>NLW-71002XS6</td>\n",
              "      <td>1</td>\n",
              "    </tr>\n",
              "    <tr>\n",
              "      <th>7409</th>\n",
              "      <td>2023-01-24</td>\n",
              "      <td>102186</td>\n",
              "      <td>פתח תקווה</td>\n",
              "      <td>SO23000267</td>\n",
              "      <td>NLW-71003S6</td>\n",
              "      <td>1</td>\n",
              "    </tr>\n",
              "    <tr>\n",
              "      <th>7411</th>\n",
              "      <td>2023-01-24</td>\n",
              "      <td>102187</td>\n",
              "      <td>עין הבשור</td>\n",
              "      <td>SO23000268</td>\n",
              "      <td>NHB5300-16-11</td>\n",
              "      <td>1</td>\n",
              "    </tr>\n",
              "  </tbody>\n",
              "</table>\n",
              "<p>5265 rows × 6 columns</p>\n",
              "</div>\n",
              "      <button class=\"colab-df-convert\" onclick=\"convertToInteractive('df-d6c76611-e13f-4334-9895-72b025d6c918')\"\n",
              "              title=\"Convert this dataframe to an interactive table.\"\n",
              "              style=\"display:none;\">\n",
              "        \n",
              "  <svg xmlns=\"http://www.w3.org/2000/svg\" height=\"24px\"viewBox=\"0 0 24 24\"\n",
              "       width=\"24px\">\n",
              "    <path d=\"M0 0h24v24H0V0z\" fill=\"none\"/>\n",
              "    <path d=\"M18.56 5.44l.94 2.06.94-2.06 2.06-.94-2.06-.94-.94-2.06-.94 2.06-2.06.94zm-11 1L8.5 8.5l.94-2.06 2.06-.94-2.06-.94L8.5 2.5l-.94 2.06-2.06.94zm10 10l.94 2.06.94-2.06 2.06-.94-2.06-.94-.94-2.06-.94 2.06-2.06.94z\"/><path d=\"M17.41 7.96l-1.37-1.37c-.4-.4-.92-.59-1.43-.59-.52 0-1.04.2-1.43.59L10.3 9.45l-7.72 7.72c-.78.78-.78 2.05 0 2.83L4 21.41c.39.39.9.59 1.41.59.51 0 1.02-.2 1.41-.59l7.78-7.78 2.81-2.81c.8-.78.8-2.07 0-2.86zM5.41 20L4 18.59l7.72-7.72 1.47 1.35L5.41 20z\"/>\n",
              "  </svg>\n",
              "      </button>\n",
              "      \n",
              "  <style>\n",
              "    .colab-df-container {\n",
              "      display:flex;\n",
              "      flex-wrap:wrap;\n",
              "      gap: 12px;\n",
              "    }\n",
              "\n",
              "    .colab-df-convert {\n",
              "      background-color: #E8F0FE;\n",
              "      border: none;\n",
              "      border-radius: 50%;\n",
              "      cursor: pointer;\n",
              "      display: none;\n",
              "      fill: #1967D2;\n",
              "      height: 32px;\n",
              "      padding: 0 0 0 0;\n",
              "      width: 32px;\n",
              "    }\n",
              "\n",
              "    .colab-df-convert:hover {\n",
              "      background-color: #E2EBFA;\n",
              "      box-shadow: 0px 1px 2px rgba(60, 64, 67, 0.3), 0px 1px 3px 1px rgba(60, 64, 67, 0.15);\n",
              "      fill: #174EA6;\n",
              "    }\n",
              "\n",
              "    [theme=dark] .colab-df-convert {\n",
              "      background-color: #3B4455;\n",
              "      fill: #D2E3FC;\n",
              "    }\n",
              "\n",
              "    [theme=dark] .colab-df-convert:hover {\n",
              "      background-color: #434B5C;\n",
              "      box-shadow: 0px 1px 3px 1px rgba(0, 0, 0, 0.15);\n",
              "      filter: drop-shadow(0px 1px 2px rgba(0, 0, 0, 0.3));\n",
              "      fill: #FFFFFF;\n",
              "    }\n",
              "  </style>\n",
              "\n",
              "      <script>\n",
              "        const buttonEl =\n",
              "          document.querySelector('#df-d6c76611-e13f-4334-9895-72b025d6c918 button.colab-df-convert');\n",
              "        buttonEl.style.display =\n",
              "          google.colab.kernel.accessAllowed ? 'block' : 'none';\n",
              "\n",
              "        async function convertToInteractive(key) {\n",
              "          const element = document.querySelector('#df-d6c76611-e13f-4334-9895-72b025d6c918');\n",
              "          const dataTable =\n",
              "            await google.colab.kernel.invokeFunction('convertToInteractive',\n",
              "                                                     [key], {});\n",
              "          if (!dataTable) return;\n",
              "\n",
              "          const docLinkHtml = 'Like what you see? Visit the ' +\n",
              "            '<a target=\"_blank\" href=https://colab.research.google.com/notebooks/data_table.ipynb>data table notebook</a>'\n",
              "            + ' to learn more about interactive tables.';\n",
              "          element.innerHTML = '';\n",
              "          dataTable['output_type'] = 'display_data';\n",
              "          await google.colab.output.renderOutput(dataTable, element);\n",
              "          const docLink = document.createElement('div');\n",
              "          docLink.innerHTML = docLinkHtml;\n",
              "          element.appendChild(docLink);\n",
              "        }\n",
              "      </script>\n",
              "    </div>\n",
              "  </div>\n",
              "  "
            ]
          },
          "metadata": {},
          "execution_count": 33
        }
      ]
    },
    {
      "cell_type": "code",
      "source": [
        "df_orders.shape"
      ],
      "metadata": {
        "id": "a1Y6zek-jDF8",
        "colab": {
          "base_uri": "https://localhost:8080/"
        },
        "outputId": "f8683c33-87c7-4e14-aa35-a3834eb2da5b"
      },
      "execution_count": null,
      "outputs": [
        {
          "output_type": "execute_result",
          "data": {
            "text/plain": [
              "(5265, 6)"
            ]
          },
          "metadata": {},
          "execution_count": 34
        }
      ]
    },
    {
      "cell_type": "markdown",
      "source": [
        "This Dataframe has now 5265 rows over 6 columns, so we deleted 0 columns and 2147 rows."
      ],
      "metadata": {
        "id": "vP8kHOgT5vKB"
      }
    },
    {
      "cell_type": "code",
      "source": [
        "df_orders.isnull().sum()"
      ],
      "metadata": {
        "colab": {
          "base_uri": "https://localhost:8080/"
        },
        "id": "17mMgSTZ6P_o",
        "outputId": "3fe15b7a-8d2c-44ab-bc64-047bbea0efca"
      },
      "execution_count": null,
      "outputs": [
        {
          "output_type": "execute_result",
          "data": {
            "text/plain": [
              "Order_Date        0\n",
              "Customer_ID       0\n",
              "City              2\n",
              "Order_ID          0\n",
              "Catalog_Number    0\n",
              "Quantity          0\n",
              "dtype: int64"
            ]
          },
          "metadata": {},
          "execution_count": 35
        }
      ]
    }
  ]
}